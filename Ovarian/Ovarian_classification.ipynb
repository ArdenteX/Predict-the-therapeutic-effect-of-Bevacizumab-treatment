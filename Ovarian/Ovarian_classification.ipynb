{
 "cells": [
  {
   "cell_type": "code",
   "execution_count": 1,
   "metadata": {
    "collapsed": true,
    "pycharm": {
     "name": "#%%\n"
    }
   },
   "outputs": [],
   "source": [
    "import numpy as np\n",
    "from models.vgg import vgg16_bn\n",
    "from models.densenet import densenet121\n",
    "from ECANET.eca_resnet import eca_resnet50\n",
    "from models.seNet import se_resnet50\n",
    "from LR_Scheduler.WarmupScheluder import WarmUpLR\n",
    "from Utils.View import visualize_network, init_weights, split_weights, visualize_lastlayer, visualize_train_loss, visualize_test_loss, visualize_learning_rate, visualize_param_hist, visualize_test_acc\n",
    "from tensorboardX import SummaryWriter\n",
    "import pandas as pd\n",
    "import torch\n",
    "import torch.nn as nn\n",
    "import torch.optim as optim\n",
    "from torchvision import transforms\n",
    "from torchvision.datasets import ImageFolder\n",
    "from tqdm import tqdm\n",
    "import seaborn as sns\n",
    "from jupyterthemes import jtplot\n",
    "jtplot.style(theme='onedork')"
   ]
  },
  {
   "cell_type": "code",
   "execution_count": 10,
   "metadata": {
    "pycharm": {
     "name": "#%%\n"
    }
   },
   "outputs": [],
   "source": [
    "device = torch.device(\"cuda\" if torch.cuda.is_available() else \"cpu\")\n",
    "\n",
    "writer = SummaryWriter(log_dir=\"D:\\\\Resource\\\\logs_5_ECA-Net50\\\\\")\n",
    "\n",
    "EPOCH = 150\n",
    "pre_epoch = 0\n",
    "BATCH_SIZE = 64\n",
    "LR = 0.1984\n",
    "accumulation_steps = 8\n",
    "\n",
    "transform_train = transforms.Compose([\n",
    "    transforms.RandomResizedCrop(224),\n",
    "    transforms.RandomHorizontalFlip(),\n",
    "    transforms.ToTensor(),\n",
    "    transforms.Normalize(mean=[0.485, 0.456, 0.406],std=[0.229, 0.224, 0.225])])\n",
    "\n",
    "transform_validation = transforms.Compose([\n",
    "    transforms.Resize(256),\n",
    "    transforms.CenterCrop(224),\n",
    "    transforms.ToTensor(),\n",
    "    transforms.Normalize(mean=[0.485, 0.456, 0.406],std=[0.229, 0.224, 0.225])])"
   ]
  },
  {
   "cell_type": "code",
   "execution_count": 11,
   "metadata": {
    "pycharm": {
     "name": "#%%\n"
    }
   },
   "outputs": [],
   "source": [
    "train = ImageFolder('C:\\\\dataset\\\\Ovarian_After_Split\\\\', transform=transform_train)\n",
    "validate = ImageFolder('C:\\\\dataset\\\\Validation\\\\', transform=transform_validation)\n",
    "trainloader = torch.utils.data.DataLoader(train, batch_size=BATCH_SIZE, shuffle=True, num_workers=16, pin_memory=True)\n",
    "validation_loader = torch.utils.data.DataLoader(validate, batch_size= BATCH_SIZE, shuffle=True,num_workers=16, pin_memory=True)"
   ]
  },
  {
   "cell_type": "code",
   "execution_count": 12,
   "outputs": [
    {
     "data": {
      "text/plain": "32648"
     },
     "execution_count": 12,
     "metadata": {},
     "output_type": "execute_result"
    }
   ],
   "source": [
    "len(trainloader.sampler)"
   ],
   "metadata": {
    "collapsed": false,
    "pycharm": {
     "name": "#%%\n"
    }
   }
  },
  {
   "cell_type": "code",
   "execution_count": 13,
   "metadata": {
    "pycharm": {
     "name": "#%%\n"
    }
   },
   "outputs": [],
   "source": [
    "# net = mpncovresnet50(n_classes=2)\n",
    "# net = resnet50(n_classes=2)\n",
    "net = se_resnet50(num_classes=2)\n",
    "init_weights(net)\n",
    "net = nn.DataParallel(net)\n",
    "net.to(device)\n",
    "criterion = nn.CrossEntropyLoss()\n",
    "parameters = split_weights(net)\n",
    "optimizer = optim.SGD(parameters, lr=LR, weight_decay=1e-4, momentum=0.9, nesterov=True)\n",
    "warmup_sl = WarmUpLR(optimizer, len(trainloader) * 5)\n",
    "schedular = torch.optim.lr_scheduler.MultiStepLR(optimizer,  milestones=[25, 35, 45, 65, 80, 100, 130], gamma=0.7)"
   ]
  },
  {
   "cell_type": "code",
   "execution_count": 14,
   "outputs": [],
   "source": [
    "visualize_network(writer, net.module)"
   ],
   "metadata": {
    "collapsed": false,
    "pycharm": {
     "name": "#%%\n"
    }
   }
  },
  {
   "cell_type": "code",
   "execution_count": 15,
   "metadata": {
    "pycharm": {
     "name": "#%%\n"
    }
   },
   "outputs": [],
   "source": [
    "# net.load_state_dict(torch.load('D:\\Resource\\models\\model_best.pth'))"
   ]
  },
  {
   "cell_type": "code",
   "execution_count": 16,
   "metadata": {
    "pycharm": {
     "name": "#%%\n"
    }
   },
   "outputs": [],
   "source": [
    "total_loss = []\n",
    "total_acc = []\n",
    "total_val_loss = []\n",
    "total_val_acc = []"
   ]
  },
  {
   "cell_type": "code",
   "execution_count": 17,
   "outputs": [],
   "source": [
    "# total_loss = list(np.load('D:\\Resource\\modelEvaluation\\\\loss_6.npy'))\n",
    "# total_acc = list(np.load('D:\\Resource\\modelEvaluation\\\\acc_6.npy'))\n",
    "# total_val_loss = list(np.load('D:\\Resource\\modelEvaluation\\\\val_loss_6.npy'))\n",
    "# total_val_acc = list(np.load('D:\\Resource\\modelEvaluation\\\\val_acc_6.npy'))\n",
    "best_acc = 0.0"
   ],
   "metadata": {
    "collapsed": false,
    "pycharm": {
     "name": "#%%\n"
    }
   }
  },
  {
   "cell_type": "code",
   "execution_count": 18,
   "outputs": [],
   "source": [
    "class AverageMeter(object):\n",
    "    \"\"\"Computes and stores the average and current value\"\"\"\n",
    "    def __init__(self):\n",
    "        self.reset()\n",
    "\n",
    "    def reset(self):\n",
    "        self.val = 0\n",
    "        self.avg = 0\n",
    "        self.sum = 0\n",
    "        self.count = 0\n",
    "\n",
    "    def update(self, val, n=1):\n",
    "        self.val = val\n",
    "        self.sum += val * n\n",
    "        self.count += n\n",
    "        self.avg = self.sum / self.count\n"
   ],
   "metadata": {
    "collapsed": false,
    "pycharm": {
     "name": "#%%\n"
    }
   }
  },
  {
   "cell_type": "code",
   "execution_count": 19,
   "metadata": {
    "pycharm": {
     "name": "#%%\n"
    }
   },
   "outputs": [
    {
     "name": "stderr",
     "output_type": "stream",
     "text": [
      "  0%|          | 0/511 [00:00<?, ?batch/s]E:\\anaconda\\envs\\deeplearning\\lib\\site-packages\\torch\\optim\\lr_scheduler.py:136: UserWarning: Detected call of `lr_scheduler.step()` before `optimizer.step()`. In PyTorch 1.1.0 and later, you should call them in the opposite order: `optimizer.step()` before `lr_scheduler.step()`.  Failure to do this will result in PyTorch skipping the first value of the learning rate schedule. See more details at https://pytorch.org/docs/stable/optim.html#how-to-adjust-learning-rate\n",
      "  \"https://pytorch.org/docs/stable/optim.html#how-to-adjust-learning-rate\", UserWarning)\n",
      "Epoch 1: 100%|██████████| 511/511 [04:19<00:00,  1.97batch/s, accuracy=52.181, learning_rate=0.0397, loss=0.4711, loss_avg=1.7282, update=63] \n",
      "Epoch 1: 100%|██████████| 171/171 [00:45<00:00,  3.73batch/s, update=63, val_accuracy=57.894, val_loss=0.7319, val_loss_avg=0.6811]\n"
     ]
    },
    {
     "name": "stdout",
     "output_type": "stream",
     "text": [
      "val_acc_avg: 57.893768310546875, val_loss_avg: 0.6811371796206941\n"
     ]
    },
    {
     "name": "stderr",
     "output_type": "stream",
     "text": [
      "Epoch 2: 100%|██████████| 511/511 [03:56<00:00,  2.16batch/s, accuracy=57.115, learning_rate=0.0794, loss=1.9637, loss_avg=0.7231, update=63]\n",
      "Epoch 2: 100%|██████████| 171/171 [00:46<00:00,  3.65batch/s, update=63, val_accuracy=49.495, val_loss=0.5300, val_loss_avg=0.7068]\n"
     ]
    },
    {
     "name": "stdout",
     "output_type": "stream",
     "text": [
      "Save Best Model: val_acc_avg: 49.49457931518555, val_loss_avg: 0.7068211380073941\n"
     ]
    },
    {
     "name": "stderr",
     "output_type": "stream",
     "text": [
      "Epoch 3: 100%|██████████| 511/511 [03:56<00:00,  2.16batch/s, accuracy=53.865, learning_rate=0.119, loss=0.9263, loss_avg=0.7296, update=63] \n",
      "Epoch 3: 100%|██████████| 171/171 [00:47<00:00,  3.63batch/s, update=63, val_accuracy=57.260, val_loss=0.7247, val_loss_avg=0.7086]\n"
     ]
    },
    {
     "name": "stdout",
     "output_type": "stream",
     "text": [
      "Save Best Model: val_acc_avg: 57.25969314575195, val_loss_avg: 0.7086345347997086\n"
     ]
    },
    {
     "name": "stderr",
     "output_type": "stream",
     "text": [
      "Epoch 4: 100%|██████████| 511/511 [03:55<00:00,  2.17batch/s, accuracy=56.086, learning_rate=0.159, loss=0.7792, loss_avg=0.7292, update=63]\n",
      "Epoch 4: 100%|██████████| 171/171 [00:46<00:00,  3.67batch/s, update=63, val_accuracy=50.368, val_loss=0.5872, val_loss_avg=0.7383]\n"
     ]
    },
    {
     "name": "stdout",
     "output_type": "stream",
     "text": [
      "val_acc_avg: 50.36758041381836, val_loss_avg: 0.7383464596942382\n"
     ]
    },
    {
     "name": "stderr",
     "output_type": "stream",
     "text": [
      "Epoch 5: 100%|██████████| 511/511 [03:55<00:00,  2.17batch/s, accuracy=52.009, learning_rate=0.198, loss=0.7283, loss_avg=0.7216, update=63]\n",
      "Epoch 5: 100%|██████████| 171/171 [00:46<00:00,  3.69batch/s, update=63, val_accuracy=55.817, val_loss=0.5910, val_loss_avg=0.6936]\n"
     ]
    },
    {
     "name": "stdout",
     "output_type": "stream",
     "text": [
      "val_acc_avg: 55.81694412231445, val_loss_avg: 0.6935570741527946\n"
     ]
    },
    {
     "name": "stderr",
     "output_type": "stream",
     "text": [
      "Epoch 6: 100%|██████████| 511/511 [03:55<00:00,  2.17batch/s, accuracy=54.729, learning_rate=0.238, loss=0.6508, loss_avg=0.6946, update=63]\n",
      "Epoch 6: 100%|██████████| 171/171 [00:46<00:00,  3.70batch/s, update=63, val_accuracy=53.556, val_loss=0.7116, val_loss_avg=0.7076]\n",
      "E:\\anaconda\\envs\\deeplearning\\lib\\site-packages\\torch\\optim\\lr_scheduler.py:156: UserWarning: The epoch parameter in `scheduler.step()` was not necessary and is being deprecated where possible. Please use `scheduler.step()` to step the scheduler. During the deprecation, if epoch is different from None, the closed form is used instead of the new chainable form, where available. Please open an issue if you are unable to replicate your use case: https://github.com/pytorch/pytorch/issues/new/choose.\n",
      "  warnings.warn(EPOCH_DEPRECATION_WARNING, UserWarning)\n"
     ]
    },
    {
     "name": "stdout",
     "output_type": "stream",
     "text": [
      "val_acc_avg: 53.556331634521484, val_loss_avg: 0.7075672018858817\n"
     ]
    },
    {
     "name": "stderr",
     "output_type": "stream",
     "text": [
      "Epoch 7: 100%|██████████| 511/511 [03:55<00:00,  2.17batch/s, accuracy=56.451, learning_rate=0.198, loss=0.7079, loss_avg=0.6823, update=63]\n",
      "Epoch 7: 100%|██████████| 171/171 [00:46<00:00,  3.67batch/s, update=63, val_accuracy=57.480, val_loss=0.7382, val_loss_avg=0.7208]\n"
     ]
    },
    {
     "name": "stdout",
     "output_type": "stream",
     "text": [
      "Save Best Model: val_acc_avg: 57.48024368286133, val_loss_avg: 0.7207793370916264\n"
     ]
    },
    {
     "name": "stderr",
     "output_type": "stream",
     "text": [
      "Epoch 8: 100%|██████████| 511/511 [03:56<00:00,  2.16batch/s, accuracy=57.538, learning_rate=0.198, loss=0.8533, loss_avg=0.6754, update=63]\n",
      "Epoch 8: 100%|██████████| 171/171 [00:46<00:00,  3.70batch/s, update=63, val_accuracy=60.614, val_loss=0.8651, val_loss_avg=0.6585]\n"
     ]
    },
    {
     "name": "stdout",
     "output_type": "stream",
     "text": [
      "Save Best Model: val_acc_avg: 60.61385726928711, val_loss_avg: 0.6584812184726243\n"
     ]
    },
    {
     "name": "stderr",
     "output_type": "stream",
     "text": [
      "Epoch 9: 100%|██████████| 511/511 [03:55<00:00,  2.17batch/s, accuracy=58.739, learning_rate=0.198, loss=0.6001, loss_avg=0.6665, update=63]\n",
      "Epoch 9: 100%|██████████| 171/171 [00:47<00:00,  3.62batch/s, update=63, val_accuracy=61.156, val_loss=0.6213, val_loss_avg=0.6502]\n"
     ]
    },
    {
     "name": "stdout",
     "output_type": "stream",
     "text": [
      "Save Best Model: val_acc_avg: 61.156036376953125, val_loss_avg: 0.6501712204011743\n"
     ]
    },
    {
     "name": "stderr",
     "output_type": "stream",
     "text": [
      "Epoch 10: 100%|██████████| 511/511 [03:56<00:00,  2.17batch/s, accuracy=60.531, learning_rate=0.198, loss=0.4961, loss_avg=0.6555, update=63]\n",
      "Epoch 10: 100%|██████████| 171/171 [00:46<00:00,  3.69batch/s, update=63, val_accuracy=62.406, val_loss=0.6563, val_loss_avg=0.6394]\n"
     ]
    },
    {
     "name": "stdout",
     "output_type": "stream",
     "text": [
      "Save Best Model: val_acc_avg: 62.40580749511719, val_loss_avg: 0.6393710008068046\n"
     ]
    },
    {
     "name": "stderr",
     "output_type": "stream",
     "text": [
      "Epoch 11: 100%|██████████| 511/511 [03:56<00:00,  2.16batch/s, accuracy=61.820, learning_rate=0.198, loss=0.5475, loss_avg=0.6434, update=63]\n",
      "Epoch 11: 100%|██████████| 171/171 [00:46<00:00,  3.65batch/s, update=63, val_accuracy=62.369, val_loss=0.4888, val_loss_avg=0.6425]\n"
     ]
    },
    {
     "name": "stdout",
     "output_type": "stream",
     "text": [
      "val_acc_avg: 62.369049072265625, val_loss_avg: 0.642492630117585\n"
     ]
    },
    {
     "name": "stderr",
     "output_type": "stream",
     "text": [
      "Epoch 12: 100%|██████████| 511/511 [03:55<00:00,  2.17batch/s, accuracy=63.719, learning_rate=0.198, loss=0.7868, loss_avg=0.6287, update=63]\n",
      "Epoch 12: 100%|██████████| 171/171 [00:46<00:00,  3.67batch/s, update=63, val_accuracy=61.588, val_loss=0.6298, val_loss_avg=0.6605]\n"
     ]
    },
    {
     "name": "stdout",
     "output_type": "stream",
     "text": [
      "val_acc_avg: 61.58794403076172, val_loss_avg: 0.6605183140711407\n"
     ]
    },
    {
     "name": "stderr",
     "output_type": "stream",
     "text": [
      "Epoch 13: 100%|██████████| 511/511 [03:55<00:00,  2.17batch/s, accuracy=63.682, learning_rate=0.198, loss=0.6348, loss_avg=0.6259, update=63]\n",
      "Epoch 13: 100%|██████████| 171/171 [00:46<00:00,  3.69batch/s, update=63, val_accuracy=64.464, val_loss=0.2020, val_loss_avg=0.6180]\n"
     ]
    },
    {
     "name": "stdout",
     "output_type": "stream",
     "text": [
      "Save Best Model: val_acc_avg: 64.4642562866211, val_loss_avg: 0.618003707434561\n"
     ]
    },
    {
     "name": "stderr",
     "output_type": "stream",
     "text": [
      "Epoch 14: 100%|██████████| 511/511 [03:56<00:00,  2.16batch/s, accuracy=65.073, learning_rate=0.198, loss=0.5591, loss_avg=0.6113, update=63]\n",
      "Epoch 14: 100%|██████████| 171/171 [00:46<00:00,  3.70batch/s, update=63, val_accuracy=64.740, val_loss=1.1176, val_loss_avg=0.6198]\n"
     ]
    },
    {
     "name": "stdout",
     "output_type": "stream",
     "text": [
      "Save Best Model: val_acc_avg: 64.73993682861328, val_loss_avg: 0.6198452530352426\n"
     ]
    },
    {
     "name": "stderr",
     "output_type": "stream",
     "text": [
      "Epoch 15: 100%|██████████| 511/511 [03:56<00:00,  2.16batch/s, accuracy=65.303, learning_rate=0.198, loss=0.8008, loss_avg=0.6075, update=63]\n",
      "Epoch 15: 100%|██████████| 171/171 [00:46<00:00,  3.67batch/s, update=63, val_accuracy=63.950, val_loss=0.4945, val_loss_avg=0.6297]\n"
     ]
    },
    {
     "name": "stdout",
     "output_type": "stream",
     "text": [
      "val_acc_avg: 63.949642181396484, val_loss_avg: 0.6296814712196824\n"
     ]
    },
    {
     "name": "stderr",
     "output_type": "stream",
     "text": [
      "Epoch 16: 100%|██████████| 511/511 [03:55<00:00,  2.17batch/s, accuracy=65.719, learning_rate=0.198, loss=0.5121, loss_avg=0.6060, update=63]\n",
      "Epoch 16: 100%|██████████| 171/171 [00:46<00:00,  3.70batch/s, update=63, val_accuracy=67.708, val_loss=0.7336, val_loss_avg=0.5849]\n"
     ]
    },
    {
     "name": "stdout",
     "output_type": "stream",
     "text": [
      "Save Best Model: val_acc_avg: 67.70814514160156, val_loss_avg: 0.5849191499992101\n"
     ]
    },
    {
     "name": "stderr",
     "output_type": "stream",
     "text": [
      "Epoch 17: 100%|██████████| 511/511 [03:56<00:00,  2.16batch/s, accuracy=67.281, learning_rate=0.198, loss=0.5462, loss_avg=0.5887, update=63]\n",
      "Epoch 17: 100%|██████████| 171/171 [00:46<00:00,  3.67batch/s, update=63, val_accuracy=64.988, val_loss=0.5477, val_loss_avg=0.6058]\n"
     ]
    },
    {
     "name": "stdout",
     "output_type": "stream",
     "text": [
      "val_acc_avg: 64.98805236816406, val_loss_avg: 0.6057672266836575\n"
     ]
    },
    {
     "name": "stderr",
     "output_type": "stream",
     "text": [
      "Epoch 18: 100%|██████████| 511/511 [03:55<00:00,  2.17batch/s, accuracy=67.992, learning_rate=0.198, loss=0.6810, loss_avg=0.5776, update=63]\n",
      "Epoch 18: 100%|██████████| 171/171 [00:46<00:00,  3.70batch/s, update=63, val_accuracy=63.178, val_loss=0.3846, val_loss_avg=0.6274]\n"
     ]
    },
    {
     "name": "stdout",
     "output_type": "stream",
     "text": [
      "val_acc_avg: 63.1777229309082, val_loss_avg: 0.6273741687982973\n"
     ]
    },
    {
     "name": "stderr",
     "output_type": "stream",
     "text": [
      "Epoch 19: 100%|██████████| 511/511 [03:55<00:00,  2.17batch/s, accuracy=69.162, learning_rate=0.198, loss=0.6613, loss_avg=0.5661, update=63]\n",
      "Epoch 19: 100%|██████████| 171/171 [00:46<00:00,  3.69batch/s, update=63, val_accuracy=70.290, val_loss=0.7259, val_loss_avg=0.5672]\n"
     ]
    },
    {
     "name": "stdout",
     "output_type": "stream",
     "text": [
      "Save Best Model: val_acc_avg: 70.29039001464844, val_loss_avg: 0.5672331283776512\n"
     ]
    },
    {
     "name": "stderr",
     "output_type": "stream",
     "text": [
      "Epoch 20: 100%|██████████| 511/511 [03:55<00:00,  2.17batch/s, accuracy=69.686, learning_rate=0.198, loss=0.5962, loss_avg=0.5613, update=63]\n",
      "Epoch 20: 100%|██████████| 171/171 [00:46<00:00,  3.68batch/s, update=63, val_accuracy=69.142, val_loss=0.6891, val_loss_avg=0.5814]\n"
     ]
    },
    {
     "name": "stdout",
     "output_type": "stream",
     "text": [
      "val_acc_avg: 69.1417007446289, val_loss_avg: 0.5814173976806699\n"
     ]
    },
    {
     "name": "stderr",
     "output_type": "stream",
     "text": [
      "Epoch 21: 100%|██████████| 511/511 [03:55<00:00,  2.17batch/s, accuracy=71.086, learning_rate=0.198, loss=0.3674, loss_avg=0.5432, update=63]\n",
      "Epoch 21: 100%|██████████| 171/171 [00:46<00:00,  3.70batch/s, update=63, val_accuracy=72.395, val_loss=0.3336, val_loss_avg=0.5252]\n"
     ]
    },
    {
     "name": "stdout",
     "output_type": "stream",
     "text": [
      "Save Best Model: val_acc_avg: 72.39478302001953, val_loss_avg: 0.5252047712323946\n"
     ]
    },
    {
     "name": "stderr",
     "output_type": "stream",
     "text": [
      "Epoch 22: 100%|██████████| 511/511 [03:55<00:00,  2.17batch/s, accuracy=72.032, learning_rate=0.198, loss=0.4932, loss_avg=0.5354, update=63]\n",
      "Epoch 22: 100%|██████████| 171/171 [00:46<00:00,  3.64batch/s, update=63, val_accuracy=72.965, val_loss=0.9974, val_loss_avg=0.5260]\n"
     ]
    },
    {
     "name": "stdout",
     "output_type": "stream",
     "text": [
      "Save Best Model: val_acc_avg: 72.96453094482422, val_loss_avg: 0.5260037361337647\n"
     ]
    },
    {
     "name": "stderr",
     "output_type": "stream",
     "text": [
      "Epoch 23: 100%|██████████| 511/511 [03:55<00:00,  2.17batch/s, accuracy=72.543, learning_rate=0.198, loss=0.9628, loss_avg=0.5236, update=63]\n",
      "Epoch 23: 100%|██████████| 171/171 [00:46<00:00,  3.66batch/s, update=63, val_accuracy=73.792, val_loss=0.3695, val_loss_avg=0.5034]\n"
     ]
    },
    {
     "name": "stdout",
     "output_type": "stream",
     "text": [
      "Save Best Model: val_acc_avg: 73.79158020019531, val_loss_avg: 0.5034401861266428\n"
     ]
    },
    {
     "name": "stderr",
     "output_type": "stream",
     "text": [
      "Epoch 24: 100%|██████████| 511/511 [03:56<00:00,  2.16batch/s, accuracy=72.963, learning_rate=0.198, loss=0.4958, loss_avg=0.5190, update=63]\n",
      "Epoch 24: 100%|██████████| 171/171 [00:46<00:00,  3.68batch/s, update=63, val_accuracy=65.925, val_loss=0.7618, val_loss_avg=0.6196]\n"
     ]
    },
    {
     "name": "stdout",
     "output_type": "stream",
     "text": [
      "val_acc_avg: 65.92538452148438, val_loss_avg: 0.6195575485464362\n"
     ]
    },
    {
     "name": "stderr",
     "output_type": "stream",
     "text": [
      "Epoch 25: 100%|██████████| 511/511 [03:55<00:00,  2.17batch/s, accuracy=73.640, learning_rate=0.198, loss=0.6259, loss_avg=0.5076, update=63]\n",
      "Epoch 25: 100%|██████████| 171/171 [00:46<00:00,  3.68batch/s, update=63, val_accuracy=71.954, val_loss=0.7001, val_loss_avg=0.5948]\n"
     ]
    },
    {
     "name": "stdout",
     "output_type": "stream",
     "text": [
      "val_acc_avg: 71.95368194580078, val_loss_avg: 0.5948187131759898\n"
     ]
    },
    {
     "name": "stderr",
     "output_type": "stream",
     "text": [
      "Epoch 26: 100%|██████████| 511/511 [03:55<00:00,  2.17batch/s, accuracy=75.138, learning_rate=0.139, loss=0.6187, loss_avg=0.4883, update=63]\n",
      "Epoch 26: 100%|██████████| 171/171 [00:46<00:00,  3.64batch/s, update=63, val_accuracy=76.751, val_loss=0.5910, val_loss_avg=0.4649]\n"
     ]
    },
    {
     "name": "stdout",
     "output_type": "stream",
     "text": [
      "Save Best Model: val_acc_avg: 76.75059509277344, val_loss_avg: 0.46493407354878935\n"
     ]
    },
    {
     "name": "stderr",
     "output_type": "stream",
     "text": [
      "Epoch 27: 100%|██████████| 511/511 [03:56<00:00,  2.16batch/s, accuracy=75.968, learning_rate=0.139, loss=0.4123, loss_avg=0.4758, update=63]\n",
      "Epoch 27: 100%|██████████| 171/171 [00:46<00:00,  3.66batch/s, update=63, val_accuracy=68.912, val_loss=2.0545, val_loss_avg=0.7565]\n"
     ]
    },
    {
     "name": "stdout",
     "output_type": "stream",
     "text": [
      "val_acc_avg: 68.9119644165039, val_loss_avg: 0.7564956903063271\n"
     ]
    },
    {
     "name": "stderr",
     "output_type": "stream",
     "text": [
      "Epoch 28: 100%|██████████| 511/511 [03:54<00:00,  2.17batch/s, accuracy=76.244, learning_rate=0.139, loss=0.6458, loss_avg=0.4721, update=63]\n",
      "Epoch 28: 100%|██████████| 171/171 [00:46<00:00,  3.70batch/s, update=63, val_accuracy=77.137, val_loss=0.6249, val_loss_avg=0.4517]\n"
     ]
    },
    {
     "name": "stdout",
     "output_type": "stream",
     "text": [
      "Save Best Model: val_acc_avg: 77.13655853271484, val_loss_avg: 0.4516722849243114\n"
     ]
    },
    {
     "name": "stderr",
     "output_type": "stream",
     "text": [
      "Epoch 29: 100%|██████████| 511/511 [03:56<00:00,  2.16batch/s, accuracy=77.129, learning_rate=0.139, loss=0.4573, loss_avg=0.4593, update=63]\n",
      "Epoch 29: 100%|██████████| 171/171 [00:46<00:00,  3.68batch/s, update=63, val_accuracy=77.945, val_loss=0.1197, val_loss_avg=0.4489]\n"
     ]
    },
    {
     "name": "stdout",
     "output_type": "stream",
     "text": [
      "Save Best Model: val_acc_avg: 77.94522857666016, val_loss_avg: 0.44888626249632707\n"
     ]
    },
    {
     "name": "stderr",
     "output_type": "stream",
     "text": [
      "Epoch 30: 100%|██████████| 511/511 [03:55<00:00,  2.17batch/s, accuracy=77.248, learning_rate=0.139, loss=0.4810, loss_avg=0.4564, update=63]\n",
      "Epoch 30: 100%|██████████| 171/171 [00:46<00:00,  3.67batch/s, update=63, val_accuracy=70.548, val_loss=1.3016, val_loss_avg=0.5492]\n"
     ]
    },
    {
     "name": "stdout",
     "output_type": "stream",
     "text": [
      "val_acc_avg: 70.54769134521484, val_loss_avg: 0.5491735493297678\n"
     ]
    },
    {
     "name": "stderr",
     "output_type": "stream",
     "text": [
      "Epoch 31: 100%|██████████| 511/511 [03:55<00:00,  2.17batch/s, accuracy=77.561, learning_rate=0.139, loss=1.1832, loss_avg=0.4504, update=63]\n",
      "Epoch 31: 100%|██████████| 171/171 [00:46<00:00,  3.69batch/s, update=63, val_accuracy=72.441, val_loss=0.9157, val_loss_avg=0.5910]\n"
     ]
    },
    {
     "name": "stdout",
     "output_type": "stream",
     "text": [
      "val_acc_avg: 72.44072723388672, val_loss_avg: 0.5909806117702989\n"
     ]
    },
    {
     "name": "stderr",
     "output_type": "stream",
     "text": [
      "Epoch 32: 100%|██████████| 511/511 [03:55<00:00,  2.17batch/s, accuracy=77.760, learning_rate=0.139, loss=0.8663, loss_avg=0.4463, update=63]\n",
      "Epoch 32: 100%|██████████| 171/171 [00:45<00:00,  3.72batch/s, update=63, val_accuracy=79.213, val_loss=0.8294, val_loss_avg=0.4367]\n"
     ]
    },
    {
     "name": "stdout",
     "output_type": "stream",
     "text": [
      "Save Best Model: val_acc_avg: 79.21337890625, val_loss_avg: 0.43665075389761804\n"
     ]
    },
    {
     "name": "stderr",
     "output_type": "stream",
     "text": [
      "Epoch 33: 100%|██████████| 511/511 [03:55<00:00,  2.17batch/s, accuracy=78.535, learning_rate=0.139, loss=0.1970, loss_avg=0.4401, update=63]\n",
      "Epoch 33: 100%|██████████| 171/171 [00:46<00:00,  3.66batch/s, update=63, val_accuracy=69.574, val_loss=0.3604, val_loss_avg=0.5977]\n"
     ]
    },
    {
     "name": "stdout",
     "output_type": "stream",
     "text": [
      "val_acc_avg: 69.5736083984375, val_loss_avg: 0.5976599748137681\n"
     ]
    },
    {
     "name": "stderr",
     "output_type": "stream",
     "text": [
      "Epoch 34: 100%|██████████| 511/511 [03:55<00:00,  2.17batch/s, accuracy=78.829, learning_rate=0.139, loss=0.2124, loss_avg=0.4336, update=63]\n",
      "Epoch 34: 100%|██████████| 171/171 [00:46<00:00,  3.70batch/s, update=63, val_accuracy=79.388, val_loss=0.0155, val_loss_avg=0.4376]\n"
     ]
    },
    {
     "name": "stdout",
     "output_type": "stream",
     "text": [
      "Save Best Model: val_acc_avg: 79.38797760009766, val_loss_avg: 0.4376011900593501\n"
     ]
    },
    {
     "name": "stderr",
     "output_type": "stream",
     "text": [
      "Epoch 35: 100%|██████████| 511/511 [03:55<00:00,  2.17batch/s, accuracy=79.212, learning_rate=0.139, loss=0.3314, loss_avg=0.4255, update=63]\n",
      "Epoch 35: 100%|██████████| 171/171 [00:46<00:00,  3.67batch/s, update=63, val_accuracy=81.042, val_loss=0.2438, val_loss_avg=0.3985]\n"
     ]
    },
    {
     "name": "stdout",
     "output_type": "stream",
     "text": [
      "Save Best Model: val_acc_avg: 81.04208374023438, val_loss_avg: 0.39853098628670386\n"
     ]
    },
    {
     "name": "stderr",
     "output_type": "stream",
     "text": [
      "Epoch 36: 100%|██████████| 511/511 [03:56<00:00,  2.16batch/s, accuracy=80.229, learning_rate=0.0972, loss=0.4964, loss_avg=0.4086, update=63]\n",
      "Epoch 36: 100%|██████████| 171/171 [00:43<00:00,  3.89batch/s, update=63, val_accuracy=81.042, val_loss=1.0985, val_loss_avg=0.3911]\n"
     ]
    },
    {
     "name": "stdout",
     "output_type": "stream",
     "text": [
      "val_acc_avg: 81.04208374023438, val_loss_avg: 0.3910778918000754\n"
     ]
    },
    {
     "name": "stderr",
     "output_type": "stream",
     "text": [
      "Epoch 37: 100%|██████████| 511/511 [03:54<00:00,  2.18batch/s, accuracy=80.731, learning_rate=0.0972, loss=0.5777, loss_avg=0.3981, update=63]\n",
      "Epoch 37: 100%|██████████| 171/171 [00:43<00:00,  3.89batch/s, update=63, val_accuracy=80.950, val_loss=0.2636, val_loss_avg=0.4081]\n"
     ]
    },
    {
     "name": "stdout",
     "output_type": "stream",
     "text": [
      "val_acc_avg: 80.9501953125, val_loss_avg: 0.4081231440566213\n"
     ]
    },
    {
     "name": "stderr",
     "output_type": "stream",
     "text": [
      "Epoch 38: 100%|██████████| 511/511 [03:55<00:00,  2.17batch/s, accuracy=80.961, learning_rate=0.0972, loss=0.7846, loss_avg=0.3994, update=63]\n",
      "Epoch 38: 100%|██████████| 171/171 [00:44<00:00,  3.87batch/s, update=63, val_accuracy=79.250, val_loss=0.1006, val_loss_avg=0.4249]\n"
     ]
    },
    {
     "name": "stdout",
     "output_type": "stream",
     "text": [
      "val_acc_avg: 79.25013732910156, val_loss_avg: 0.4249190297761706\n"
     ]
    },
    {
     "name": "stderr",
     "output_type": "stream",
     "text": [
      "Epoch 39: 100%|██████████| 511/511 [03:55<00:00,  2.17batch/s, accuracy=81.025, learning_rate=0.0972, loss=0.2839, loss_avg=0.3947, update=63]\n",
      "Epoch 39: 100%|██████████| 171/171 [00:43<00:00,  3.93batch/s, update=63, val_accuracy=81.713, val_loss=0.1972, val_loss_avg=0.3856]\n"
     ]
    },
    {
     "name": "stdout",
     "output_type": "stream",
     "text": [
      "Save Best Model: val_acc_avg: 81.71292114257812, val_loss_avg: 0.3855974029594212\n"
     ]
    },
    {
     "name": "stderr",
     "output_type": "stream",
     "text": [
      "Epoch 40: 100%|██████████| 511/511 [03:56<00:00,  2.16batch/s, accuracy=81.855, learning_rate=0.0972, loss=0.8736, loss_avg=0.3872, update=63]\n",
      "Epoch 40: 100%|██████████| 171/171 [00:44<00:00,  3.85batch/s, update=63, val_accuracy=74.858, val_loss=1.4451, val_loss_avg=0.5272]\n"
     ]
    },
    {
     "name": "stdout",
     "output_type": "stream",
     "text": [
      "val_acc_avg: 74.85755920410156, val_loss_avg: 0.5272182753541368\n"
     ]
    },
    {
     "name": "stderr",
     "output_type": "stream",
     "text": [
      "Epoch 41: 100%|██████████| 511/511 [03:55<00:00,  2.17batch/s, accuracy=81.788, learning_rate=0.0972, loss=0.3302, loss_avg=0.3833, update=63]\n",
      "Epoch 41: 100%|██████████| 171/171 [00:44<00:00,  3.88batch/s, update=63, val_accuracy=80.739, val_loss=0.0163, val_loss_avg=0.4213]\n"
     ]
    },
    {
     "name": "stdout",
     "output_type": "stream",
     "text": [
      "val_acc_avg: 80.73883056640625, val_loss_avg: 0.42125922169668495\n"
     ]
    },
    {
     "name": "stderr",
     "output_type": "stream",
     "text": [
      "Epoch 42: 100%|██████████| 511/511 [03:55<00:00,  2.17batch/s, accuracy=82.229, learning_rate=0.0972, loss=0.1500, loss_avg=0.3795, update=63]\n",
      "Epoch 42: 100%|██████████| 171/171 [00:43<00:00,  3.95batch/s, update=63, val_accuracy=79.131, val_loss=0.0890, val_loss_avg=0.4186]\n"
     ]
    },
    {
     "name": "stdout",
     "output_type": "stream",
     "text": [
      "val_acc_avg: 79.13067626953125, val_loss_avg: 0.418640382975433\n"
     ]
    },
    {
     "name": "stderr",
     "output_type": "stream",
     "text": [
      "Epoch 43: 100%|██████████| 511/511 [03:55<00:00,  2.17batch/s, accuracy=82.639, learning_rate=0.0972, loss=0.6599, loss_avg=0.3695, update=63]\n",
      "Epoch 43: 100%|██████████| 171/171 [00:44<00:00,  3.88batch/s, update=63, val_accuracy=80.243, val_loss=0.0807, val_loss_avg=0.4219]\n"
     ]
    },
    {
     "name": "stdout",
     "output_type": "stream",
     "text": [
      "val_acc_avg: 80.24259948730469, val_loss_avg: 0.42190818025076177\n"
     ]
    },
    {
     "name": "stderr",
     "output_type": "stream",
     "text": [
      "Epoch 44: 100%|██████████| 511/511 [03:55<00:00,  2.17batch/s, accuracy=82.615, learning_rate=0.0972, loss=1.0909, loss_avg=0.3672, update=63]\n",
      "Epoch 44: 100%|██████████| 171/171 [00:43<00:00,  3.90batch/s, update=63, val_accuracy=82.283, val_loss=0.0430, val_loss_avg=0.3828]\n"
     ]
    },
    {
     "name": "stdout",
     "output_type": "stream",
     "text": [
      "Save Best Model: val_acc_avg: 82.28266906738281, val_loss_avg: 0.38278478020868895\n"
     ]
    },
    {
     "name": "stderr",
     "output_type": "stream",
     "text": [
      "Epoch 45: 100%|██████████| 511/511 [03:55<00:00,  2.17batch/s, accuracy=82.955, learning_rate=0.0972, loss=1.0081, loss_avg=0.3661, update=63]\n",
      "Epoch 45: 100%|██████████| 171/171 [00:44<00:00,  3.86batch/s, update=63, val_accuracy=83.110, val_loss=0.0361, val_loss_avg=0.3672]\n"
     ]
    },
    {
     "name": "stdout",
     "output_type": "stream",
     "text": [
      "Save Best Model: val_acc_avg: 83.1097183227539, val_loss_avg: 0.3672319357549579\n"
     ]
    },
    {
     "name": "stderr",
     "output_type": "stream",
     "text": [
      "Epoch 46: 100%|██████████| 511/511 [03:56<00:00,  2.16batch/s, accuracy=83.987, learning_rate=0.0681, loss=0.1364, loss_avg=0.3490, update=63]\n",
      "Epoch 46: 100%|██████████| 171/171 [00:44<00:00,  3.81batch/s, update=63, val_accuracy=70.879, val_loss=2.5021, val_loss_avg=0.8213]\n"
     ]
    },
    {
     "name": "stdout",
     "output_type": "stream",
     "text": [
      "val_acc_avg: 70.8785171508789, val_loss_avg: 0.8213298108248649\n"
     ]
    },
    {
     "name": "stderr",
     "output_type": "stream",
     "text": [
      "Epoch 47: 100%|██████████| 511/511 [03:55<00:00,  2.17batch/s, accuracy=83.962, learning_rate=0.0681, loss=0.3763, loss_avg=0.3445, update=63]\n",
      "Epoch 47: 100%|██████████| 171/171 [00:43<00:00,  3.91batch/s, update=63, val_accuracy=83.202, val_loss=0.0453, val_loss_avg=0.3619]\n"
     ]
    },
    {
     "name": "stdout",
     "output_type": "stream",
     "text": [
      "Save Best Model: val_acc_avg: 83.20161437988281, val_loss_avg: 0.36187060838306767\n"
     ]
    },
    {
     "name": "stderr",
     "output_type": "stream",
     "text": [
      "Epoch 48: 100%|██████████| 511/511 [03:56<00:00,  2.16batch/s, accuracy=84.465, learning_rate=0.0681, loss=0.2394, loss_avg=0.3347, update=63]\n",
      "Epoch 48: 100%|██████████| 171/171 [00:44<00:00,  3.84batch/s, update=63, val_accuracy=85.407, val_loss=1.0598, val_loss_avg=0.3180]\n"
     ]
    },
    {
     "name": "stdout",
     "output_type": "stream",
     "text": [
      "Save Best Model: val_acc_avg: 85.40709686279297, val_loss_avg: 0.3180062860234041\n"
     ]
    },
    {
     "name": "stderr",
     "output_type": "stream",
     "text": [
      "Epoch 49: 100%|██████████| 511/511 [03:56<00:00,  2.17batch/s, accuracy=84.740, learning_rate=0.0681, loss=0.5931, loss_avg=0.3331, update=63]\n",
      "Epoch 49: 100%|██████████| 171/171 [00:43<00:00,  3.90batch/s, update=63, val_accuracy=85.269, val_loss=0.1357, val_loss_avg=0.3248]\n"
     ]
    },
    {
     "name": "stdout",
     "output_type": "stream",
     "text": [
      "val_acc_avg: 85.26924896240234, val_loss_avg: 0.32483535326375085\n"
     ]
    },
    {
     "name": "stderr",
     "output_type": "stream",
     "text": [
      "Epoch 50: 100%|██████████| 511/511 [03:55<00:00,  2.17batch/s, accuracy=84.771, learning_rate=0.0681, loss=0.5596, loss_avg=0.3317, update=63]\n",
      "Epoch 50: 100%|██████████| 171/171 [00:43<00:00,  3.93batch/s, update=63, val_accuracy=82.742, val_loss=0.7565, val_loss_avg=0.3738]\n"
     ]
    },
    {
     "name": "stdout",
     "output_type": "stream",
     "text": [
      "val_acc_avg: 82.74214172363281, val_loss_avg: 0.37381032461454883\n"
     ]
    },
    {
     "name": "stderr",
     "output_type": "stream",
     "text": [
      "Epoch 51: 100%|██████████| 511/511 [03:55<00:00,  2.17batch/s, accuracy=85.270, learning_rate=0.0681, loss=0.4575, loss_avg=0.3232, update=63]\n",
      "Epoch 51: 100%|██████████| 171/171 [00:44<00:00,  3.89batch/s, update=63, val_accuracy=81.033, val_loss=0.0390, val_loss_avg=0.4220]\n"
     ]
    },
    {
     "name": "stdout",
     "output_type": "stream",
     "text": [
      "val_acc_avg: 81.03289794921875, val_loss_avg: 0.4220228943904628\n"
     ]
    },
    {
     "name": "stderr",
     "output_type": "stream",
     "text": [
      "Epoch 52: 100%|██████████| 511/511 [03:55<00:00,  2.17batch/s, accuracy=85.592, learning_rate=0.0681, loss=0.5478, loss_avg=0.3221, update=63]\n",
      "Epoch 52: 100%|██████████| 171/171 [00:43<00:00,  3.89batch/s, update=63, val_accuracy=82.623, val_loss=0.3518, val_loss_avg=0.3727]\n"
     ]
    },
    {
     "name": "stdout",
     "output_type": "stream",
     "text": [
      "val_acc_avg: 82.6226806640625, val_loss_avg: 0.37265048680925955\n"
     ]
    },
    {
     "name": "stderr",
     "output_type": "stream",
     "text": [
      "Epoch 53: 100%|██████████| 511/511 [03:55<00:00,  2.17batch/s, accuracy=85.527, learning_rate=0.0681, loss=0.2458, loss_avg=0.3167, update=63]\n",
      "Epoch 53: 100%|██████████| 171/171 [00:43<00:00,  3.90batch/s, update=63, val_accuracy=86.675, val_loss=0.0262, val_loss_avg=0.3008]\n"
     ]
    },
    {
     "name": "stdout",
     "output_type": "stream",
     "text": [
      "Save Best Model: val_acc_avg: 86.67523956298828, val_loss_avg: 0.30082535731149684\n"
     ]
    },
    {
     "name": "stderr",
     "output_type": "stream",
     "text": [
      "Epoch 54: 100%|██████████| 511/511 [03:55<00:00,  2.17batch/s, accuracy=85.788, learning_rate=0.0681, loss=0.9636, loss_avg=0.3113, update=63]\n",
      "Epoch 54: 100%|██████████| 171/171 [00:44<00:00,  3.87batch/s, update=63, val_accuracy=84.589, val_loss=0.0230, val_loss_avg=0.3402]\n"
     ]
    },
    {
     "name": "stdout",
     "output_type": "stream",
     "text": [
      "val_acc_avg: 84.58922576904297, val_loss_avg: 0.3401834375018408\n"
     ]
    },
    {
     "name": "stderr",
     "output_type": "stream",
     "text": [
      "Epoch 55: 100%|██████████| 511/511 [03:55<00:00,  2.17batch/s, accuracy=85.674, learning_rate=0.0681, loss=0.4002, loss_avg=0.3147, update=63]\n",
      "Epoch 55: 100%|██████████| 171/171 [00:44<00:00,  3.86batch/s, update=63, val_accuracy=87.208, val_loss=0.5661, val_loss_avg=0.2976]\n"
     ]
    },
    {
     "name": "stdout",
     "output_type": "stream",
     "text": [
      "Save Best Model: val_acc_avg: 87.20823669433594, val_loss_avg: 0.2976090951869427\n"
     ]
    },
    {
     "name": "stderr",
     "output_type": "stream",
     "text": [
      "Epoch 56: 100%|██████████| 511/511 [03:55<00:00,  2.17batch/s, accuracy=86.094, learning_rate=0.0681, loss=0.1292, loss_avg=0.3061, update=63]\n",
      "Epoch 56: 100%|██████████| 171/171 [00:43<00:00,  3.89batch/s, update=63, val_accuracy=84.314, val_loss=0.2446, val_loss_avg=0.3484]\n"
     ]
    },
    {
     "name": "stdout",
     "output_type": "stream",
     "text": [
      "val_acc_avg: 84.31354522705078, val_loss_avg: 0.34844624322196005\n"
     ]
    },
    {
     "name": "stderr",
     "output_type": "stream",
     "text": [
      "Epoch 57: 100%|██████████| 511/511 [03:55<00:00,  2.17batch/s, accuracy=86.073, learning_rate=0.0681, loss=0.2988, loss_avg=0.3061, update=63]\n",
      "Epoch 57: 100%|██████████| 171/171 [00:43<00:00,  3.89batch/s, update=63, val_accuracy=83.753, val_loss=0.1376, val_loss_avg=0.3519]\n"
     ]
    },
    {
     "name": "stdout",
     "output_type": "stream",
     "text": [
      "val_acc_avg: 83.75298309326172, val_loss_avg: 0.35192938505551585\n"
     ]
    },
    {
     "name": "stderr",
     "output_type": "stream",
     "text": [
      "Epoch 58: 100%|██████████| 511/511 [03:55<00:00,  2.17batch/s, accuracy=86.639, learning_rate=0.0681, loss=0.9081, loss_avg=0.2996, update=63]\n",
      "Epoch 58: 100%|██████████| 171/171 [00:43<00:00,  3.95batch/s, update=63, val_accuracy=83.845, val_loss=0.0344, val_loss_avg=0.3568]\n"
     ]
    },
    {
     "name": "stdout",
     "output_type": "stream",
     "text": [
      "val_acc_avg: 83.84487915039062, val_loss_avg: 0.35676847199315953\n"
     ]
    },
    {
     "name": "stderr",
     "output_type": "stream",
     "text": [
      "Epoch 59: 100%|██████████| 511/511 [03:55<00:00,  2.17batch/s, accuracy=86.679, learning_rate=0.0681, loss=0.4557, loss_avg=0.2976, update=63]\n",
      "Epoch 59: 100%|██████████| 171/171 [00:44<00:00,  3.88batch/s, update=63, val_accuracy=81.740, val_loss=1.5641, val_loss_avg=0.4044]\n"
     ]
    },
    {
     "name": "stdout",
     "output_type": "stream",
     "text": [
      "val_acc_avg: 81.74048614501953, val_loss_avg: 0.4044162845199675\n"
     ]
    },
    {
     "name": "stderr",
     "output_type": "stream",
     "text": [
      "Epoch 60: 100%|██████████| 511/511 [03:55<00:00,  2.17batch/s, accuracy=86.722, learning_rate=0.0681, loss=1.0482, loss_avg=0.2947, update=63]\n",
      "Epoch 60: 100%|██████████| 171/171 [00:44<00:00,  3.87batch/s, update=63, val_accuracy=81.364, val_loss=0.1112, val_loss_avg=0.4254]\n"
     ]
    },
    {
     "name": "stdout",
     "output_type": "stream",
     "text": [
      "val_acc_avg: 81.36371612548828, val_loss_avg: 0.4253867886737304\n"
     ]
    },
    {
     "name": "stderr",
     "output_type": "stream",
     "text": [
      "Epoch 61: 100%|██████████| 511/511 [03:55<00:00,  2.17batch/s, accuracy=86.878, learning_rate=0.0681, loss=0.5404, loss_avg=0.2957, update=63]\n",
      "Epoch 61: 100%|██████████| 171/171 [00:43<00:00,  3.95batch/s, update=63, val_accuracy=84.075, val_loss=0.0099, val_loss_avg=0.3680]\n"
     ]
    },
    {
     "name": "stdout",
     "output_type": "stream",
     "text": [
      "val_acc_avg: 84.07461547851562, val_loss_avg: 0.3680281262491169\n"
     ]
    },
    {
     "name": "stderr",
     "output_type": "stream",
     "text": [
      "Epoch 62: 100%|██████████| 511/511 [03:55<00:00,  2.17batch/s, accuracy=86.799, learning_rate=0.0681, loss=0.3735, loss_avg=0.2949, update=63]\n",
      "Epoch 62: 100%|██████████| 171/171 [00:43<00:00,  3.93batch/s, update=63, val_accuracy=86.335, val_loss=0.0958, val_loss_avg=0.3040]\n"
     ]
    },
    {
     "name": "stdout",
     "output_type": "stream",
     "text": [
      "val_acc_avg: 86.33523559570312, val_loss_avg: 0.3039636063147963\n"
     ]
    },
    {
     "name": "stderr",
     "output_type": "stream",
     "text": [
      "Epoch 63: 100%|██████████| 511/511 [03:55<00:00,  2.17batch/s, accuracy=87.181, learning_rate=0.0681, loss=0.1318, loss_avg=0.2865, update=63]\n",
      "Epoch 63: 100%|██████████| 171/171 [00:44<00:00,  3.87batch/s, update=63, val_accuracy=86.841, val_loss=0.0350, val_loss_avg=0.3045]\n"
     ]
    },
    {
     "name": "stdout",
     "output_type": "stream",
     "text": [
      "val_acc_avg: 86.84065246582031, val_loss_avg: 0.30454508091195215\n"
     ]
    },
    {
     "name": "stderr",
     "output_type": "stream",
     "text": [
      "Epoch 64: 100%|██████████| 511/511 [03:55<00:00,  2.17batch/s, accuracy=87.567, learning_rate=0.0681, loss=0.1968, loss_avg=0.2802, update=63]\n",
      "Epoch 64: 100%|██████████| 171/171 [00:44<00:00,  3.88batch/s, update=63, val_accuracy=87.732, val_loss=0.0054, val_loss_avg=0.2836]\n"
     ]
    },
    {
     "name": "stdout",
     "output_type": "stream",
     "text": [
      "Save Best Model: val_acc_avg: 87.7320327758789, val_loss_avg: 0.2836316412829473\n"
     ]
    },
    {
     "name": "stderr",
     "output_type": "stream",
     "text": [
      "Epoch 65: 100%|██████████| 511/511 [03:55<00:00,  2.17batch/s, accuracy=87.506, learning_rate=0.0681, loss=0.5572, loss_avg=0.2788, update=63]\n",
      "Epoch 65: 100%|██████████| 171/171 [00:43<00:00,  3.92batch/s, update=63, val_accuracy=86.262, val_loss=0.0147, val_loss_avg=0.3212]\n"
     ]
    },
    {
     "name": "stdout",
     "output_type": "stream",
     "text": [
      "val_acc_avg: 86.26171875, val_loss_avg: 0.32116091298221844\n"
     ]
    },
    {
     "name": "stderr",
     "output_type": "stream",
     "text": [
      "Epoch 66: 100%|██████████| 511/511 [03:55<00:00,  2.17batch/s, accuracy=88.597, learning_rate=0.0476, loss=0.3997, loss_avg=0.2593, update=63]\n",
      "Epoch 66: 100%|██████████| 171/171 [00:44<00:00,  3.87batch/s, update=63, val_accuracy=85.343, val_loss=0.0423, val_loss_avg=0.3638]\n"
     ]
    },
    {
     "name": "stdout",
     "output_type": "stream",
     "text": [
      "val_acc_avg: 85.34276580810547, val_loss_avg: 0.36384717177786585\n"
     ]
    },
    {
     "name": "stderr",
     "output_type": "stream",
     "text": [
      "Epoch 67: 100%|██████████| 511/511 [03:55<00:00,  2.17batch/s, accuracy=88.636, learning_rate=0.0476, loss=0.2282, loss_avg=0.2579, update=63]\n",
      "Epoch 67: 100%|██████████| 171/171 [00:44<00:00,  3.87batch/s, update=63, val_accuracy=87.760, val_loss=0.3891, val_loss_avg=0.2792]\n"
     ]
    },
    {
     "name": "stdout",
     "output_type": "stream",
     "text": [
      "Save Best Model: val_acc_avg: 87.75960540771484, val_loss_avg: 0.27918787348513613\n"
     ]
    },
    {
     "name": "stderr",
     "output_type": "stream",
     "text": [
      "Epoch 68: 100%|██████████| 511/511 [03:55<00:00,  2.17batch/s, accuracy=88.842, learning_rate=0.0476, loss=0.6901, loss_avg=0.2506, update=63]\n",
      "Epoch 68: 100%|██████████| 171/171 [00:43<00:00,  3.90batch/s, update=63, val_accuracy=88.587, val_loss=0.4650, val_loss_avg=0.2755]\n"
     ]
    },
    {
     "name": "stdout",
     "output_type": "stream",
     "text": [
      "Save Best Model: val_acc_avg: 88.58665466308594, val_loss_avg: 0.2754630789535928\n"
     ]
    },
    {
     "name": "stderr",
     "output_type": "stream",
     "text": [
      "Epoch 69: 100%|██████████| 511/511 [03:55<00:00,  2.17batch/s, accuracy=88.805, learning_rate=0.0476, loss=0.8018, loss_avg=0.2511, update=63]\n",
      "Epoch 69: 100%|██████████| 171/171 [00:44<00:00,  3.86batch/s, update=63, val_accuracy=87.080, val_loss=0.0870, val_loss_avg=0.3091]\n"
     ]
    },
    {
     "name": "stdout",
     "output_type": "stream",
     "text": [
      "val_acc_avg: 87.07958221435547, val_loss_avg: 0.30909042141987897\n"
     ]
    },
    {
     "name": "stderr",
     "output_type": "stream",
     "text": [
      "Epoch 70: 100%|██████████| 511/511 [03:55<00:00,  2.17batch/s, accuracy=89.062, learning_rate=0.0476, loss=0.8548, loss_avg=0.2506, update=63]\n",
      "Epoch 70: 100%|██████████| 171/171 [00:43<00:00,  3.89batch/s, update=63, val_accuracy=81.639, val_loss=0.0101, val_loss_avg=0.4398]\n"
     ]
    },
    {
     "name": "stdout",
     "output_type": "stream",
     "text": [
      "val_acc_avg: 81.639404296875, val_loss_avg: 0.43975461321422293\n"
     ]
    },
    {
     "name": "stderr",
     "output_type": "stream",
     "text": [
      "Epoch 71: 100%|██████████| 511/511 [03:55<00:00,  2.17batch/s, accuracy=88.214, learning_rate=0.0476, loss=0.0751, loss_avg=0.2654, update=63]\n",
      "Epoch 71: 100%|██████████| 171/171 [00:44<00:00,  3.87batch/s, update=63, val_accuracy=87.236, val_loss=0.1032, val_loss_avg=0.2971]\n"
     ]
    },
    {
     "name": "stdout",
     "output_type": "stream",
     "text": [
      "val_acc_avg: 87.23580169677734, val_loss_avg: 0.2971423172231567\n"
     ]
    },
    {
     "name": "stderr",
     "output_type": "stream",
     "text": [
      "Epoch 72: 100%|██████████| 511/511 [03:55<00:00,  2.17batch/s, accuracy=89.145, learning_rate=0.0476, loss=0.5668, loss_avg=0.2451, update=63]\n",
      "Epoch 72: 100%|██████████| 171/171 [00:43<00:00,  3.93batch/s, update=63, val_accuracy=89.643, val_loss=0.0031, val_loss_avg=0.2418]\n"
     ]
    },
    {
     "name": "stdout",
     "output_type": "stream",
     "text": [
      "Save Best Model: val_acc_avg: 89.64344787597656, val_loss_avg: 0.24179099258456493\n"
     ]
    },
    {
     "name": "stderr",
     "output_type": "stream",
     "text": [
      "Epoch 73: 100%|██████████| 511/511 [03:55<00:00,  2.17batch/s, accuracy=89.610, learning_rate=0.0476, loss=0.5650, loss_avg=0.2411, update=63]\n",
      "Epoch 73: 100%|██████████| 171/171 [00:44<00:00,  3.85batch/s, update=63, val_accuracy=87.714, val_loss=0.0674, val_loss_avg=0.2902]\n"
     ]
    },
    {
     "name": "stdout",
     "output_type": "stream",
     "text": [
      "val_acc_avg: 87.71365356445312, val_loss_avg: 0.29022209103510366\n"
     ]
    },
    {
     "name": "stderr",
     "output_type": "stream",
     "text": [
      "Epoch 74: 100%|██████████| 511/511 [03:55<00:00,  2.17batch/s, accuracy=89.436, learning_rate=0.0476, loss=1.5821, loss_avg=0.2423, update=63]\n",
      "Epoch 74: 100%|██████████| 171/171 [00:43<00:00,  3.93batch/s, update=63, val_accuracy=86.730, val_loss=0.0086, val_loss_avg=0.3203]\n"
     ]
    },
    {
     "name": "stdout",
     "output_type": "stream",
     "text": [
      "val_acc_avg: 86.73037719726562, val_loss_avg: 0.32026362860637964\n"
     ]
    },
    {
     "name": "stderr",
     "output_type": "stream",
     "text": [
      "Epoch 75: 100%|██████████| 511/511 [03:55<00:00,  2.17batch/s, accuracy=89.846, learning_rate=0.0476, loss=0.3910, loss_avg=0.2326, update=63]\n",
      "Epoch 75: 100%|██████████| 171/171 [00:44<00:00,  3.86batch/s, update=63, val_accuracy=87.833, val_loss=0.3542, val_loss_avg=0.2890]\n"
     ]
    },
    {
     "name": "stdout",
     "output_type": "stream",
     "text": [
      "val_acc_avg: 87.83311462402344, val_loss_avg: 0.2889544147709848\n"
     ]
    },
    {
     "name": "stderr",
     "output_type": "stream",
     "text": [
      "Epoch 76: 100%|██████████| 511/511 [03:55<00:00,  2.17batch/s, accuracy=89.858, learning_rate=0.0476, loss=0.3942, loss_avg=0.2321, update=63]\n",
      "Epoch 76: 100%|██████████| 171/171 [00:44<00:00,  3.86batch/s, update=63, val_accuracy=89.450, val_loss=0.0959, val_loss_avg=0.2458]\n"
     ]
    },
    {
     "name": "stdout",
     "output_type": "stream",
     "text": [
      "val_acc_avg: 89.45046997070312, val_loss_avg: 0.24579001081557292\n"
     ]
    },
    {
     "name": "stderr",
     "output_type": "stream",
     "text": [
      "Epoch 77: 100%|██████████| 511/511 [03:55<00:00,  2.17batch/s, accuracy=89.898, learning_rate=0.0476, loss=0.2878, loss_avg=0.2337, update=63]\n",
      "Epoch 77: 100%|██████████| 171/171 [00:44<00:00,  3.88batch/s, update=63, val_accuracy=89.790, val_loss=0.0695, val_loss_avg=0.2474]\n"
     ]
    },
    {
     "name": "stdout",
     "output_type": "stream",
     "text": [
      "Save Best Model: val_acc_avg: 89.79048156738281, val_loss_avg: 0.24739979767849768\n"
     ]
    },
    {
     "name": "stderr",
     "output_type": "stream",
     "text": [
      "Epoch 78: 100%|██████████| 511/511 [03:56<00:00,  2.16batch/s, accuracy=90.532, learning_rate=0.0476, loss=0.3207, loss_avg=0.2225, update=63]\n",
      "Epoch 78: 100%|██████████| 171/171 [00:44<00:00,  3.88batch/s, update=63, val_accuracy=88.486, val_loss=0.0380, val_loss_avg=0.2748]\n"
     ]
    },
    {
     "name": "stdout",
     "output_type": "stream",
     "text": [
      "val_acc_avg: 88.4855728149414, val_loss_avg: 0.27483947973844214\n"
     ]
    },
    {
     "name": "stderr",
     "output_type": "stream",
     "text": [
      "Epoch 79: 100%|██████████| 511/511 [03:55<00:00,  2.17batch/s, accuracy=90.027, learning_rate=0.0476, loss=0.1273, loss_avg=0.2328, update=63]\n",
      "Epoch 79: 100%|██████████| 171/171 [00:43<00:00,  3.91batch/s, update=63, val_accuracy=87.649, val_loss=0.1262, val_loss_avg=0.2981]\n"
     ]
    },
    {
     "name": "stdout",
     "output_type": "stream",
     "text": [
      "val_acc_avg: 87.64933013916016, val_loss_avg: 0.2980803434785467\n"
     ]
    },
    {
     "name": "stderr",
     "output_type": "stream",
     "text": [
      "Epoch 80: 100%|██████████| 511/511 [03:55<00:00,  2.17batch/s, accuracy=90.499, learning_rate=0.0476, loss=0.3403, loss_avg=0.2206, update=63]\n",
      "Epoch 80: 100%|██████████| 171/171 [00:45<00:00,  3.74batch/s, update=63, val_accuracy=78.010, val_loss=0.0258, val_loss_avg=0.5792]\n"
     ]
    },
    {
     "name": "stdout",
     "output_type": "stream",
     "text": [
      "val_acc_avg: 78.00955963134766, val_loss_avg: 0.5791642749618737\n"
     ]
    },
    {
     "name": "stderr",
     "output_type": "stream",
     "text": [
      "Epoch 81: 100%|██████████| 511/511 [03:55<00:00,  2.17batch/s, accuracy=90.869, learning_rate=0.0333, loss=0.4177, loss_avg=0.2105, update=63]\n",
      "Epoch 81: 100%|██████████| 171/171 [00:44<00:00,  3.85batch/s, update=63, val_accuracy=90.360, val_loss=0.0481, val_loss_avg=0.2317]\n"
     ]
    },
    {
     "name": "stdout",
     "output_type": "stream",
     "text": [
      "Save Best Model: val_acc_avg: 90.3602294921875, val_loss_avg: 0.2316994157549082\n"
     ]
    },
    {
     "name": "stderr",
     "output_type": "stream",
     "text": [
      "Epoch 82: 100%|██████████| 511/511 [03:56<00:00,  2.16batch/s, accuracy=91.044, learning_rate=0.0333, loss=0.0610, loss_avg=0.2102, update=63]\n",
      "Epoch 82: 100%|██████████| 171/171 [00:44<00:00,  3.87batch/s, update=63, val_accuracy=89.478, val_loss=1.0472, val_loss_avg=0.2551]\n"
     ]
    },
    {
     "name": "stdout",
     "output_type": "stream",
     "text": [
      "val_acc_avg: 89.47803497314453, val_loss_avg: 0.2551254390947215\n"
     ]
    },
    {
     "name": "stderr",
     "output_type": "stream",
     "text": [
      "Epoch 83: 100%|██████████| 511/511 [03:55<00:00,  2.17batch/s, accuracy=91.344, learning_rate=0.0333, loss=0.6302, loss_avg=0.2020, update=63]\n",
      "Epoch 83: 100%|██████████| 171/171 [00:43<00:00,  3.91batch/s, update=63, val_accuracy=90.811, val_loss=0.0000, val_loss_avg=0.2280]\n"
     ]
    },
    {
     "name": "stdout",
     "output_type": "stream",
     "text": [
      "Save Best Model: val_acc_avg: 90.81050872802734, val_loss_avg: 0.22797581421445837\n"
     ]
    },
    {
     "name": "stderr",
     "output_type": "stream",
     "text": [
      "Epoch 84: 100%|██████████| 511/511 [03:55<00:00,  2.17batch/s, accuracy=91.127, learning_rate=0.0333, loss=0.1544, loss_avg=0.2030, update=63]\n",
      "Epoch 84: 100%|██████████| 171/171 [00:44<00:00,  3.88batch/s, update=63, val_accuracy=90.103, val_loss=0.0089, val_loss_avg=0.2420]\n"
     ]
    },
    {
     "name": "stdout",
     "output_type": "stream",
     "text": [
      "val_acc_avg: 90.10292053222656, val_loss_avg: 0.24201422998128108\n"
     ]
    },
    {
     "name": "stderr",
     "output_type": "stream",
     "text": [
      "Epoch 85: 100%|██████████| 511/511 [03:55<00:00,  2.17batch/s, accuracy=91.500, learning_rate=0.0333, loss=0.4228, loss_avg=0.1988, update=63]\n",
      "Epoch 85: 100%|██████████| 171/171 [00:43<00:00,  3.91batch/s, update=63, val_accuracy=89.745, val_loss=0.0047, val_loss_avg=0.2376]\n"
     ]
    },
    {
     "name": "stdout",
     "output_type": "stream",
     "text": [
      "val_acc_avg: 89.7445297241211, val_loss_avg: 0.23756973628119726\n"
     ]
    },
    {
     "name": "stderr",
     "output_type": "stream",
     "text": [
      "Epoch 86: 100%|██████████| 511/511 [03:55<00:00,  2.17batch/s, accuracy=91.715, learning_rate=0.0333, loss=0.8036, loss_avg=0.1959, update=63]\n",
      "Epoch 86: 100%|██████████| 171/171 [00:43<00:00,  3.93batch/s, update=63, val_accuracy=92.106, val_loss=0.0000, val_loss_avg=0.1969]\n"
     ]
    },
    {
     "name": "stdout",
     "output_type": "stream",
     "text": [
      "Save Best Model: val_acc_avg: 92.10623168945312, val_loss_avg: 0.19694515959214368\n"
     ]
    },
    {
     "name": "stderr",
     "output_type": "stream",
     "text": [
      "Epoch 87: 100%|██████████| 511/511 [03:55<00:00,  2.17batch/s, accuracy=91.822, learning_rate=0.0333, loss=0.1754, loss_avg=0.1958, update=63]\n",
      "Epoch 87: 100%|██████████| 171/171 [00:43<00:00,  3.89batch/s, update=63, val_accuracy=90.461, val_loss=0.0458, val_loss_avg=0.2323]\n"
     ]
    },
    {
     "name": "stdout",
     "output_type": "stream",
     "text": [
      "val_acc_avg: 90.46131134033203, val_loss_avg: 0.23231907292277557\n"
     ]
    },
    {
     "name": "stderr",
     "output_type": "stream",
     "text": [
      "Epoch 88: 100%|██████████| 511/511 [03:55<00:00,  2.17batch/s, accuracy=91.840, learning_rate=0.0333, loss=0.0262, loss_avg=0.1927, update=63]\n",
      "Epoch 88: 100%|██████████| 171/171 [00:44<00:00,  3.88batch/s, update=63, val_accuracy=91.141, val_loss=0.0164, val_loss_avg=0.2250]\n"
     ]
    },
    {
     "name": "stdout",
     "output_type": "stream",
     "text": [
      "val_acc_avg: 91.1413345336914, val_loss_avg: 0.2250489895659085\n"
     ]
    },
    {
     "name": "stderr",
     "output_type": "stream",
     "text": [
      "Epoch 89: 100%|██████████| 511/511 [03:55<00:00,  2.17batch/s, accuracy=91.923, learning_rate=0.0333, loss=0.3476, loss_avg=0.1896, update=63]\n",
      "Epoch 89: 100%|██████████| 171/171 [00:44<00:00,  3.88batch/s, update=63, val_accuracy=91.160, val_loss=0.1694, val_loss_avg=0.2149]\n"
     ]
    },
    {
     "name": "stdout",
     "output_type": "stream",
     "text": [
      "val_acc_avg: 91.15971374511719, val_loss_avg: 0.21488513850241192\n"
     ]
    },
    {
     "name": "stderr",
     "output_type": "stream",
     "text": [
      "Epoch 90: 100%|██████████| 511/511 [03:55<00:00,  2.17batch/s, accuracy=91.874, learning_rate=0.0333, loss=0.1533, loss_avg=0.1908, update=63]\n",
      "Epoch 90: 100%|██████████| 171/171 [00:44<00:00,  3.87batch/s, update=63, val_accuracy=92.244, val_loss=0.0144, val_loss_avg=0.2005]\n"
     ]
    },
    {
     "name": "stdout",
     "output_type": "stream",
     "text": [
      "Save Best Model: val_acc_avg: 92.24407196044922, val_loss_avg: 0.20052345229086493\n"
     ]
    },
    {
     "name": "stderr",
     "output_type": "stream",
     "text": [
      "Epoch 91: 100%|██████████| 511/511 [03:55<00:00,  2.17batch/s, accuracy=92.003, learning_rate=0.0333, loss=1.0589, loss_avg=0.1868, update=63]\n",
      "Epoch 91: 100%|██████████| 171/171 [00:43<00:00,  3.89batch/s, update=63, val_accuracy=91.546, val_loss=0.0007, val_loss_avg=0.2190]\n"
     ]
    },
    {
     "name": "stdout",
     "output_type": "stream",
     "text": [
      "val_acc_avg: 91.54566955566406, val_loss_avg: 0.2189781205154105\n"
     ]
    },
    {
     "name": "stderr",
     "output_type": "stream",
     "text": [
      "Epoch 92: 100%|██████████| 511/511 [03:55<00:00,  2.17batch/s, accuracy=91.831, learning_rate=0.0333, loss=0.1284, loss_avg=0.1937, update=63]\n",
      "Epoch 92: 100%|██████████| 171/171 [00:44<00:00,  3.88batch/s, update=63, val_accuracy=89.074, val_loss=0.0541, val_loss_avg=0.2803]\n"
     ]
    },
    {
     "name": "stdout",
     "output_type": "stream",
     "text": [
      "val_acc_avg: 89.07369995117188, val_loss_avg: 0.28028661065643007\n"
     ]
    },
    {
     "name": "stderr",
     "output_type": "stream",
     "text": [
      "Epoch 93: 100%|██████████| 511/511 [03:55<00:00,  2.17batch/s, accuracy=92.045, learning_rate=0.0333, loss=1.1892, loss_avg=0.1873, update=63]\n",
      "Epoch 93: 100%|██████████| 171/171 [00:43<00:00,  3.90batch/s, update=63, val_accuracy=90.507, val_loss=0.0095, val_loss_avg=0.2470]\n"
     ]
    },
    {
     "name": "stdout",
     "output_type": "stream",
     "text": [
      "val_acc_avg: 90.50725555419922, val_loss_avg: 0.24697009426813954\n"
     ]
    },
    {
     "name": "stderr",
     "output_type": "stream",
     "text": [
      "Epoch 94: 100%|██████████| 511/511 [03:55<00:00,  2.17batch/s, accuracy=91.993, learning_rate=0.0333, loss=0.2836, loss_avg=0.1894, update=63]\n",
      "Epoch 94: 100%|██████████| 171/171 [00:43<00:00,  3.92batch/s, update=63, val_accuracy=90.103, val_loss=0.0206, val_loss_avg=0.2510]\n"
     ]
    },
    {
     "name": "stdout",
     "output_type": "stream",
     "text": [
      "val_acc_avg: 90.10292053222656, val_loss_avg: 0.2509569086400086\n"
     ]
    },
    {
     "name": "stderr",
     "output_type": "stream",
     "text": [
      "Epoch 95: 100%|██████████| 511/511 [03:55<00:00,  2.17batch/s, accuracy=92.422, learning_rate=0.0333, loss=0.2482, loss_avg=0.1816, update=63]\n",
      "Epoch 95: 100%|██████████| 171/171 [00:43<00:00,  3.89batch/s, update=63, val_accuracy=91.536, val_loss=0.0011, val_loss_avg=0.2144]\n"
     ]
    },
    {
     "name": "stdout",
     "output_type": "stream",
     "text": [
      "val_acc_avg: 91.53648376464844, val_loss_avg: 0.2143669460574781\n"
     ]
    },
    {
     "name": "stderr",
     "output_type": "stream",
     "text": [
      "Epoch 96: 100%|██████████| 511/511 [03:55<00:00,  2.17batch/s, accuracy=92.052, learning_rate=0.0333, loss=0.2609, loss_avg=0.1889, update=63]\n",
      "Epoch 96: 100%|██████████| 171/171 [00:45<00:00,  3.73batch/s, update=63, val_accuracy=90.360, val_loss=0.0074, val_loss_avg=0.2476]\n"
     ]
    },
    {
     "name": "stdout",
     "output_type": "stream",
     "text": [
      "val_acc_avg: 90.3602294921875, val_loss_avg: 0.24764769618854576\n"
     ]
    },
    {
     "name": "stderr",
     "output_type": "stream",
     "text": [
      "Epoch 97: 100%|██████████| 511/511 [03:56<00:00,  2.16batch/s, accuracy=92.410, learning_rate=0.0333, loss=0.4291, loss_avg=0.1788, update=63]\n",
      "Epoch 97: 100%|██████████| 171/171 [00:43<00:00,  3.89batch/s, update=63, val_accuracy=91.389, val_loss=0.0083, val_loss_avg=0.2194]\n"
     ]
    },
    {
     "name": "stdout",
     "output_type": "stream",
     "text": [
      "val_acc_avg: 91.38945007324219, val_loss_avg: 0.219441603331049\n"
     ]
    },
    {
     "name": "stderr",
     "output_type": "stream",
     "text": [
      "Epoch 98: 100%|██████████| 511/511 [03:55<00:00,  2.17batch/s, accuracy=92.532, learning_rate=0.0333, loss=0.9524, loss_avg=0.1789, update=63]\n",
      "Epoch 98: 100%|██████████| 171/171 [00:44<00:00,  3.88batch/s, update=63, val_accuracy=87.236, val_loss=0.4064, val_loss_avg=0.3162]\n"
     ]
    },
    {
     "name": "stdout",
     "output_type": "stream",
     "text": [
      "val_acc_avg: 87.23580169677734, val_loss_avg: 0.31621192550970295\n"
     ]
    },
    {
     "name": "stderr",
     "output_type": "stream",
     "text": [
      "Epoch 99: 100%|██████████| 511/511 [03:53<00:00,  2.19batch/s, accuracy=92.450, learning_rate=0.0333, loss=0.2877, loss_avg=0.1815, update=63]\n",
      "Epoch 99: 100%|██████████| 171/171 [00:43<00:00,  3.93batch/s, update=63, val_accuracy=90.406, val_loss=0.2046, val_loss_avg=0.2466]\n"
     ]
    },
    {
     "name": "stdout",
     "output_type": "stream",
     "text": [
      "val_acc_avg: 90.40617370605469, val_loss_avg: 0.24664723331427404\n"
     ]
    },
    {
     "name": "stderr",
     "output_type": "stream",
     "text": [
      "Epoch 100: 100%|██████████| 511/511 [03:52<00:00,  2.19batch/s, accuracy=92.532, learning_rate=0.0333, loss=0.1062, loss_avg=0.1776, update=63]\n",
      "Epoch 100: 100%|██████████| 171/171 [00:44<00:00,  3.88batch/s, update=63, val_accuracy=91.307, val_loss=0.7227, val_loss_avg=0.2304]\n"
     ]
    },
    {
     "name": "stdout",
     "output_type": "stream",
     "text": [
      "val_acc_avg: 91.30674743652344, val_loss_avg: 0.2303591175917163\n"
     ]
    },
    {
     "name": "stderr",
     "output_type": "stream",
     "text": [
      "Epoch 101: 100%|██████████| 511/511 [03:53<00:00,  2.19batch/s, accuracy=93.332, learning_rate=0.0233, loss=0.5039, loss_avg=0.1607, update=63]\n",
      "Epoch 101: 100%|██████████| 171/171 [00:44<00:00,  3.84batch/s, update=63, val_accuracy=90.783, val_loss=0.0002, val_loss_avg=0.2452]\n"
     ]
    },
    {
     "name": "stdout",
     "output_type": "stream",
     "text": [
      "val_acc_avg: 90.78294372558594, val_loss_avg: 0.24520178847893903\n"
     ]
    },
    {
     "name": "stderr",
     "output_type": "stream",
     "text": [
      "Epoch 102: 100%|██████████| 511/511 [03:53<00:00,  2.19batch/s, accuracy=93.375, learning_rate=0.0233, loss=0.2539, loss_avg=0.1591, update=63]\n",
      "Epoch 102: 100%|██████████| 171/171 [00:43<00:00,  3.94batch/s, update=63, val_accuracy=87.953, val_loss=0.0018, val_loss_avg=0.3021]\n"
     ]
    },
    {
     "name": "stdout",
     "output_type": "stream",
     "text": [
      "val_acc_avg: 87.95258331298828, val_loss_avg: 0.3021382097712391\n"
     ]
    },
    {
     "name": "stderr",
     "output_type": "stream",
     "text": [
      "Epoch 103: 100%|██████████| 511/511 [03:53<00:00,  2.19batch/s, accuracy=93.482, learning_rate=0.0233, loss=0.0588, loss_avg=0.1590, update=63]\n",
      "Epoch 103: 100%|██████████| 171/171 [00:44<00:00,  3.88batch/s, update=63, val_accuracy=93.264, val_loss=0.0000, val_loss_avg=0.1770]\n"
     ]
    },
    {
     "name": "stdout",
     "output_type": "stream",
     "text": [
      "Save Best Model: val_acc_avg: 93.26410675048828, val_loss_avg: 0.17704228950844775\n"
     ]
    },
    {
     "name": "stderr",
     "output_type": "stream",
     "text": [
      "Epoch 104: 100%|██████████| 511/511 [03:53<00:00,  2.19batch/s, accuracy=93.592, learning_rate=0.0233, loss=0.4363, loss_avg=0.1538, update=63]\n",
      "Epoch 104: 100%|██████████| 171/171 [00:43<00:00,  3.89batch/s, update=63, val_accuracy=90.305, val_loss=0.1056, val_loss_avg=0.2610]\n"
     ]
    },
    {
     "name": "stdout",
     "output_type": "stream",
     "text": [
      "val_acc_avg: 90.30509185791016, val_loss_avg: 0.26098673614459184\n"
     ]
    },
    {
     "name": "stderr",
     "output_type": "stream",
     "text": [
      "Epoch 105: 100%|██████████| 511/511 [03:52<00:00,  2.19batch/s, accuracy=93.580, learning_rate=0.0233, loss=0.0417, loss_avg=0.1555, update=63]\n",
      "Epoch 105: 100%|██████████| 171/171 [00:44<00:00,  3.85batch/s, update=63, val_accuracy=89.754, val_loss=0.2803, val_loss_avg=0.2818]\n"
     ]
    },
    {
     "name": "stdout",
     "output_type": "stream",
     "text": [
      "val_acc_avg: 89.75372314453125, val_loss_avg: 0.2817951059203401\n"
     ]
    },
    {
     "name": "stderr",
     "output_type": "stream",
     "text": [
      "Epoch 106: 100%|██████████| 511/511 [03:53<00:00,  2.19batch/s, accuracy=93.868, learning_rate=0.0233, loss=0.3456, loss_avg=0.1483, update=63]\n",
      "Epoch 106: 100%|██████████| 171/171 [00:44<00:00,  3.82batch/s, update=63, val_accuracy=92.042, val_loss=0.4023, val_loss_avg=0.2137]\n"
     ]
    },
    {
     "name": "stdout",
     "output_type": "stream",
     "text": [
      "val_acc_avg: 92.04190063476562, val_loss_avg: 0.2137249565983362\n"
     ]
    },
    {
     "name": "stderr",
     "output_type": "stream",
     "text": [
      "Epoch 107: 100%|██████████| 511/511 [03:52<00:00,  2.20batch/s, accuracy=93.782, learning_rate=0.0233, loss=0.2410, loss_avg=0.1460, update=63]\n",
      "Epoch 107: 100%|██████████| 171/171 [00:44<00:00,  3.87batch/s, update=63, val_accuracy=92.161, val_loss=0.0038, val_loss_avg=0.2140]\n"
     ]
    },
    {
     "name": "stdout",
     "output_type": "stream",
     "text": [
      "val_acc_avg: 92.16136932373047, val_loss_avg: 0.21395664361706582\n"
     ]
    },
    {
     "name": "stderr",
     "output_type": "stream",
     "text": [
      "Epoch 108: 100%|██████████| 511/511 [03:53<00:00,  2.19batch/s, accuracy=93.779, learning_rate=0.0233, loss=0.5068, loss_avg=0.1514, update=63]\n",
      "Epoch 108: 100%|██████████| 171/171 [00:44<00:00,  3.89batch/s, update=63, val_accuracy=90.176, val_loss=0.0029, val_loss_avg=0.2820]\n"
     ]
    },
    {
     "name": "stdout",
     "output_type": "stream",
     "text": [
      "val_acc_avg: 90.17643737792969, val_loss_avg: 0.2819872664767298\n"
     ]
    },
    {
     "name": "stderr",
     "output_type": "stream",
     "text": [
      "Epoch 109: 100%|██████████| 511/511 [03:53<00:00,  2.19batch/s, accuracy=93.543, learning_rate=0.0233, loss=0.1393, loss_avg=0.1521, update=63]\n",
      "Epoch 109: 100%|██████████| 171/171 [00:44<00:00,  3.87batch/s, update=63, val_accuracy=92.878, val_loss=0.0001, val_loss_avg=0.1825]\n"
     ]
    },
    {
     "name": "stdout",
     "output_type": "stream",
     "text": [
      "val_acc_avg: 92.87814331054688, val_loss_avg: 0.1825151795425118\n"
     ]
    },
    {
     "name": "stderr",
     "output_type": "stream",
     "text": [
      "Epoch 110: 100%|██████████| 511/511 [03:53<00:00,  2.19batch/s, accuracy=93.908, learning_rate=0.0233, loss=0.6068, loss_avg=0.1475, update=63]\n",
      "Epoch 110: 100%|██████████| 171/171 [00:44<00:00,  3.84batch/s, update=63, val_accuracy=90.755, val_loss=0.0123, val_loss_avg=0.2397]\n"
     ]
    },
    {
     "name": "stdout",
     "output_type": "stream",
     "text": [
      "val_acc_avg: 90.75537872314453, val_loss_avg: 0.2396769554216803\n"
     ]
    },
    {
     "name": "stderr",
     "output_type": "stream",
     "text": [
      "Epoch 111: 100%|██████████| 511/511 [03:53<00:00,  2.19batch/s, accuracy=93.727, learning_rate=0.0233, loss=0.0279, loss_avg=0.1487, update=63]\n",
      "Epoch 111: 100%|██████████| 171/171 [00:43<00:00,  3.92batch/s, update=63, val_accuracy=92.759, val_loss=1.3733, val_loss_avg=0.1915]\n"
     ]
    },
    {
     "name": "stdout",
     "output_type": "stream",
     "text": [
      "val_acc_avg: 92.75868225097656, val_loss_avg: 0.19153454756828775\n"
     ]
    },
    {
     "name": "stderr",
     "output_type": "stream",
     "text": [
      "Epoch 112: 100%|██████████| 511/511 [03:52<00:00,  2.19batch/s, accuracy=93.902, learning_rate=0.0233, loss=0.7966, loss_avg=0.1465, update=63]\n",
      "Epoch 112: 100%|██████████| 171/171 [00:43<00:00,  3.91batch/s, update=63, val_accuracy=93.200, val_loss=0.0135, val_loss_avg=0.1911]\n"
     ]
    },
    {
     "name": "stdout",
     "output_type": "stream",
     "text": [
      "val_acc_avg: 93.19977569580078, val_loss_avg: 0.1911253352009172\n"
     ]
    },
    {
     "name": "stderr",
     "output_type": "stream",
     "text": [
      "Epoch 113: 100%|██████████| 511/511 [03:53<00:00,  2.19batch/s, accuracy=93.626, learning_rate=0.0233, loss=0.8639, loss_avg=0.1560, update=63]\n",
      "Epoch 113: 100%|██████████| 171/171 [00:44<00:00,  3.87batch/s, update=63, val_accuracy=93.191, val_loss=0.0255, val_loss_avg=0.1807]\n"
     ]
    },
    {
     "name": "stdout",
     "output_type": "stream",
     "text": [
      "val_acc_avg: 93.19058990478516, val_loss_avg: 0.18067117370158417\n"
     ]
    },
    {
     "name": "stderr",
     "output_type": "stream",
     "text": [
      "Epoch 114: 100%|██████████| 511/511 [03:53<00:00,  2.19batch/s, accuracy=93.984, learning_rate=0.0233, loss=0.8184, loss_avg=0.1475, update=63]\n",
      "Epoch 114: 100%|██████████| 171/171 [00:44<00:00,  3.85batch/s, update=63, val_accuracy=92.685, val_loss=0.0088, val_loss_avg=0.1886]\n"
     ]
    },
    {
     "name": "stdout",
     "output_type": "stream",
     "text": [
      "val_acc_avg: 92.68516540527344, val_loss_avg: 0.1885897535176876\n"
     ]
    },
    {
     "name": "stderr",
     "output_type": "stream",
     "text": [
      "Epoch 115: 100%|██████████| 511/511 [03:53<00:00,  2.19batch/s, accuracy=93.871, learning_rate=0.0233, loss=0.1878, loss_avg=0.1491, update=63]\n",
      "Epoch 115: 100%|██████████| 171/171 [00:44<00:00,  3.88batch/s, update=63, val_accuracy=93.117, val_loss=0.0027, val_loss_avg=0.1814]\n"
     ]
    },
    {
     "name": "stdout",
     "output_type": "stream",
     "text": [
      "val_acc_avg: 93.11707305908203, val_loss_avg: 0.18139271223939854\n"
     ]
    },
    {
     "name": "stderr",
     "output_type": "stream",
     "text": [
      "Epoch 116: 100%|██████████| 511/511 [03:53<00:00,  2.19batch/s, accuracy=93.978, learning_rate=0.0233, loss=0.2762, loss_avg=0.1450, update=63]\n",
      "Epoch 116: 100%|██████████| 171/171 [00:44<00:00,  3.85batch/s, update=63, val_accuracy=93.365, val_loss=0.0052, val_loss_avg=0.1782]\n"
     ]
    },
    {
     "name": "stdout",
     "output_type": "stream",
     "text": [
      "Save Best Model: val_acc_avg: 93.36518859863281, val_loss_avg: 0.1782060292853425\n"
     ]
    },
    {
     "name": "stderr",
     "output_type": "stream",
     "text": [
      "Epoch 117: 100%|██████████| 511/511 [03:54<00:00,  2.18batch/s, accuracy=94.186, learning_rate=0.0233, loss=0.7513, loss_avg=0.1417, update=63]\n",
      "Epoch 117: 100%|██████████| 171/171 [00:43<00:00,  3.92batch/s, update=63, val_accuracy=92.805, val_loss=0.1657, val_loss_avg=0.1860]\n"
     ]
    },
    {
     "name": "stdout",
     "output_type": "stream",
     "text": [
      "val_acc_avg: 92.80463409423828, val_loss_avg: 0.18600054042257383\n"
     ]
    },
    {
     "name": "stderr",
     "output_type": "stream",
     "text": [
      "Epoch 118: 100%|██████████| 511/511 [03:52<00:00,  2.19batch/s, accuracy=93.929, learning_rate=0.0233, loss=0.8757, loss_avg=0.1468, update=63]\n",
      "Epoch 118: 100%|██████████| 171/171 [00:43<00:00,  3.90batch/s, update=63, val_accuracy=92.547, val_loss=0.0068, val_loss_avg=0.2046]\n"
     ]
    },
    {
     "name": "stdout",
     "output_type": "stream",
     "text": [
      "val_acc_avg: 92.54732513427734, val_loss_avg: 0.20463908545235046\n"
     ]
    },
    {
     "name": "stderr",
     "output_type": "stream",
     "text": [
      "Epoch 119: 100%|██████████| 511/511 [03:52<00:00,  2.19batch/s, accuracy=94.076, learning_rate=0.0233, loss=0.0965, loss_avg=0.1452, update=63]\n",
      "Epoch 119: 100%|██████████| 171/171 [00:43<00:00,  3.90batch/s, update=63, val_accuracy=91.068, val_loss=0.1133, val_loss_avg=0.2374]\n"
     ]
    },
    {
     "name": "stdout",
     "output_type": "stream",
     "text": [
      "val_acc_avg: 91.06781768798828, val_loss_avg: 0.2374130791832673\n"
     ]
    },
    {
     "name": "stderr",
     "output_type": "stream",
     "text": [
      "Epoch 120: 100%|██████████| 511/511 [03:53<00:00,  2.19batch/s, accuracy=94.294, learning_rate=0.0233, loss=1.1240, loss_avg=0.1403, update=63]\n",
      "Epoch 120: 100%|██████████| 171/171 [00:44<00:00,  3.88batch/s, update=63, val_accuracy=92.998, val_loss=1.7119, val_loss_avg=0.2003]\n"
     ]
    },
    {
     "name": "stdout",
     "output_type": "stream",
     "text": [
      "val_acc_avg: 92.99761199951172, val_loss_avg: 0.20025955502370377\n"
     ]
    },
    {
     "name": "stderr",
     "output_type": "stream",
     "text": [
      "Epoch 121: 100%|██████████| 511/511 [03:53<00:00,  2.19batch/s, accuracy=93.911, learning_rate=0.0233, loss=0.0054, loss_avg=0.1465, update=63]\n",
      "Epoch 121: 100%|██████████| 171/171 [00:44<00:00,  3.85batch/s, update=63, val_accuracy=92.152, val_loss=0.0136, val_loss_avg=0.2174]\n"
     ]
    },
    {
     "name": "stdout",
     "output_type": "stream",
     "text": [
      "val_acc_avg: 92.15217590332031, val_loss_avg: 0.21742623148681492\n"
     ]
    },
    {
     "name": "stderr",
     "output_type": "stream",
     "text": [
      "Epoch 122: 100%|██████████| 511/511 [03:52<00:00,  2.19batch/s, accuracy=94.116, learning_rate=0.0233, loss=1.7026, loss_avg=0.1391, update=63]\n",
      "Epoch 122: 100%|██████████| 171/171 [00:43<00:00,  3.93batch/s, update=63, val_accuracy=91.399, val_loss=0.1103, val_loss_avg=0.2354]\n"
     ]
    },
    {
     "name": "stdout",
     "output_type": "stream",
     "text": [
      "val_acc_avg: 91.39863586425781, val_loss_avg: 0.23544482117769713\n"
     ]
    },
    {
     "name": "stderr",
     "output_type": "stream",
     "text": [
      "Epoch 123: 100%|██████████| 511/511 [03:52<00:00,  2.20batch/s, accuracy=94.082, learning_rate=0.0233, loss=0.0065, loss_avg=0.1428, update=63]\n",
      "Epoch 123: 100%|██████████| 171/171 [00:44<00:00,  3.88batch/s, update=63, val_accuracy=93.181, val_loss=0.1021, val_loss_avg=0.1928]\n"
     ]
    },
    {
     "name": "stdout",
     "output_type": "stream",
     "text": [
      "val_acc_avg: 93.181396484375, val_loss_avg: 0.1927960431958095\n"
     ]
    },
    {
     "name": "stderr",
     "output_type": "stream",
     "text": [
      "Epoch 124: 100%|██████████| 511/511 [03:53<00:00,  2.19batch/s, accuracy=94.545, learning_rate=0.0233, loss=0.2934, loss_avg=0.1349, update=63]\n",
      "Epoch 124: 100%|██████████| 171/171 [00:43<00:00,  3.90batch/s, update=63, val_accuracy=91.114, val_loss=1.8321, val_loss_avg=0.2460]\n"
     ]
    },
    {
     "name": "stdout",
     "output_type": "stream",
     "text": [
      "val_acc_avg: 91.11376190185547, val_loss_avg: 0.24602833575918445\n"
     ]
    },
    {
     "name": "stderr",
     "output_type": "stream",
     "text": [
      "Epoch 125: 100%|██████████| 511/511 [03:53<00:00,  2.19batch/s, accuracy=94.150, learning_rate=0.0233, loss=0.2399, loss_avg=0.1410, update=63]\n",
      "Epoch 125: 100%|██████████| 171/171 [00:43<00:00,  3.92batch/s, update=63, val_accuracy=91.757, val_loss=0.0495, val_loss_avg=0.2313]\n"
     ]
    },
    {
     "name": "stdout",
     "output_type": "stream",
     "text": [
      "val_acc_avg: 91.75702667236328, val_loss_avg: 0.2313365556636544\n"
     ]
    },
    {
     "name": "stderr",
     "output_type": "stream",
     "text": [
      "Epoch 126: 100%|██████████| 511/511 [03:56<00:00,  2.16batch/s, accuracy=94.422, learning_rate=0.0233, loss=0.1703, loss_avg=0.1356, update=63]\n",
      "Epoch 126: 100%|██████████| 171/171 [00:43<00:00,  3.92batch/s, update=63, val_accuracy=93.374, val_loss=0.0023, val_loss_avg=0.1824]\n"
     ]
    },
    {
     "name": "stdout",
     "output_type": "stream",
     "text": [
      "Save Best Model: val_acc_avg: 93.37438201904297, val_loss_avg: 0.18244523772470203\n"
     ]
    },
    {
     "name": "stderr",
     "output_type": "stream",
     "text": [
      "Epoch 127: 100%|██████████| 511/511 [03:53<00:00,  2.19batch/s, accuracy=94.364, learning_rate=0.0233, loss=0.0614, loss_avg=0.1365, update=63]\n",
      "Epoch 127: 100%|██████████| 171/171 [00:43<00:00,  3.91batch/s, update=63, val_accuracy=91.169, val_loss=0.2646, val_loss_avg=0.2612]\n"
     ]
    },
    {
     "name": "stdout",
     "output_type": "stream",
     "text": [
      "val_acc_avg: 91.16889953613281, val_loss_avg: 0.2611704992527165\n"
     ]
    },
    {
     "name": "stderr",
     "output_type": "stream",
     "text": [
      "Epoch 128: 100%|██████████| 511/511 [03:52<00:00,  2.19batch/s, accuracy=94.575, learning_rate=0.0233, loss=0.3795, loss_avg=0.1332, update=63]\n",
      "Epoch 128: 100%|██████████| 171/171 [00:43<00:00,  3.91batch/s, update=63, val_accuracy=90.544, val_loss=0.0102, val_loss_avg=0.2560]\n"
     ]
    },
    {
     "name": "stdout",
     "output_type": "stream",
     "text": [
      "val_acc_avg: 90.54401397705078, val_loss_avg: 0.2559996973510925\n"
     ]
    },
    {
     "name": "stderr",
     "output_type": "stream",
     "text": [
      "Epoch 129: 100%|██████████| 511/511 [03:53<00:00,  2.19batch/s, accuracy=94.260, learning_rate=0.0233, loss=0.5369, loss_avg=0.1384, update=63]\n",
      "Epoch 129: 100%|██████████| 171/171 [00:47<00:00,  3.57batch/s, update=63, val_accuracy=91.564, val_loss=0.0205, val_loss_avg=0.2285]\n"
     ]
    },
    {
     "name": "stdout",
     "output_type": "stream",
     "text": [
      "val_acc_avg: 91.56404876708984, val_loss_avg: 0.22852494753554856\n"
     ]
    },
    {
     "name": "stderr",
     "output_type": "stream",
     "text": [
      "Epoch 130: 100%|██████████| 511/511 [03:53<00:00,  2.19batch/s, accuracy=93.908, learning_rate=0.0233, loss=0.0452, loss_avg=0.1451, update=63]\n",
      "Epoch 130: 100%|██████████| 171/171 [00:43<00:00,  3.95batch/s, update=63, val_accuracy=91.095, val_loss=0.0004, val_loss_avg=0.2406]\n"
     ]
    },
    {
     "name": "stdout",
     "output_type": "stream",
     "text": [
      "val_acc_avg: 91.09538269042969, val_loss_avg: 0.24064120442484424\n"
     ]
    },
    {
     "name": "stderr",
     "output_type": "stream",
     "text": [
      "Epoch 131: 100%|██████████| 511/511 [03:53<00:00,  2.19batch/s, accuracy=95.062, learning_rate=0.0163, loss=0.0903, loss_avg=0.1213, update=63]\n",
      "Epoch 131: 100%|██████████| 171/171 [00:44<00:00,  3.86batch/s, update=63, val_accuracy=93.944, val_loss=0.0352, val_loss_avg=0.1681]\n"
     ]
    },
    {
     "name": "stdout",
     "output_type": "stream",
     "text": [
      "Save Best Model: val_acc_avg: 93.94412994384766, val_loss_avg: 0.16810372628119583\n"
     ]
    },
    {
     "name": "stderr",
     "output_type": "stream",
     "text": [
      "Epoch 132: 100%|██████████| 511/511 [03:53<00:00,  2.19batch/s, accuracy=95.047, learning_rate=0.0163, loss=0.2227, loss_avg=0.1179, update=63]\n",
      "Epoch 132: 100%|██████████| 171/171 [00:44<00:00,  3.85batch/s, update=63, val_accuracy=94.110, val_loss=0.0000, val_loss_avg=0.1738]\n"
     ]
    },
    {
     "name": "stdout",
     "output_type": "stream",
     "text": [
      "Save Best Model: val_acc_avg: 94.10953521728516, val_loss_avg: 0.17375736458076746\n"
     ]
    },
    {
     "name": "stderr",
     "output_type": "stream",
     "text": [
      "Epoch 133: 100%|██████████| 511/511 [03:53<00:00,  2.19batch/s, accuracy=94.870, learning_rate=0.0163, loss=0.0977, loss_avg=0.1240, update=63]\n",
      "Epoch 133: 100%|██████████| 171/171 [00:44<00:00,  3.85batch/s, update=63, val_accuracy=93.963, val_loss=0.1892, val_loss_avg=0.1654]\n"
     ]
    },
    {
     "name": "stdout",
     "output_type": "stream",
     "text": [
      "val_acc_avg: 93.96250915527344, val_loss_avg: 0.16540740566741366\n"
     ]
    },
    {
     "name": "stderr",
     "output_type": "stream",
     "text": [
      "Epoch 134: 100%|██████████| 511/511 [03:53<00:00,  2.19batch/s, accuracy=95.237, learning_rate=0.0163, loss=0.5656, loss_avg=0.1167, update=63]\n",
      "Epoch 134: 100%|██████████| 171/171 [00:43<00:00,  3.91batch/s, update=63, val_accuracy=92.814, val_loss=0.0001, val_loss_avg=0.2010]\n"
     ]
    },
    {
     "name": "stdout",
     "output_type": "stream",
     "text": [
      "val_acc_avg: 92.8138198852539, val_loss_avg: 0.20102365145252146\n"
     ]
    },
    {
     "name": "stderr",
     "output_type": "stream",
     "text": [
      "Epoch 135: 100%|██████████| 511/511 [03:53<00:00,  2.19batch/s, accuracy=95.338, learning_rate=0.0163, loss=0.2884, loss_avg=0.1147, update=63]\n",
      "Epoch 135: 100%|██████████| 171/171 [00:44<00:00,  3.86batch/s, update=63, val_accuracy=93.558, val_loss=0.0001, val_loss_avg=0.1783]\n"
     ]
    },
    {
     "name": "stdout",
     "output_type": "stream",
     "text": [
      "val_acc_avg: 93.55816650390625, val_loss_avg: 0.1782777340517957\n"
     ]
    },
    {
     "name": "stderr",
     "output_type": "stream",
     "text": [
      "Epoch 136: 100%|██████████| 511/511 [03:53<00:00,  2.19batch/s, accuracy=95.418, learning_rate=0.0163, loss=0.8980, loss_avg=0.1118, update=63]\n",
      "Epoch 136: 100%|██████████| 171/171 [00:43<00:00,  3.92batch/s, update=63, val_accuracy=92.648, val_loss=0.0272, val_loss_avg=0.2084]\n"
     ]
    },
    {
     "name": "stdout",
     "output_type": "stream",
     "text": [
      "val_acc_avg: 92.64840698242188, val_loss_avg: 0.20839772759386446\n"
     ]
    },
    {
     "name": "stderr",
     "output_type": "stream",
     "text": [
      "Epoch 137: 100%|██████████| 511/511 [03:52<00:00,  2.19batch/s, accuracy=95.289, learning_rate=0.0163, loss=0.3602, loss_avg=0.1145, update=63]\n",
      "Epoch 137: 100%|██████████| 171/171 [00:43<00:00,  3.92batch/s, update=63, val_accuracy=92.069, val_loss=0.0010, val_loss_avg=0.2296]\n"
     ]
    },
    {
     "name": "stdout",
     "output_type": "stream",
     "text": [
      "val_acc_avg: 92.06947326660156, val_loss_avg: 0.22955632620025768\n"
     ]
    },
    {
     "name": "stderr",
     "output_type": "stream",
     "text": [
      "Epoch 138: 100%|██████████| 511/511 [03:53<00:00,  2.19batch/s, accuracy=95.461, learning_rate=0.0163, loss=0.0190, loss_avg=0.1115, update=63]\n",
      "Epoch 138: 100%|██████████| 171/171 [00:43<00:00,  3.91batch/s, update=63, val_accuracy=94.100, val_loss=0.0009, val_loss_avg=0.1699]\n"
     ]
    },
    {
     "name": "stdout",
     "output_type": "stream",
     "text": [
      "val_acc_avg: 94.10034942626953, val_loss_avg: 0.1698706129857162\n"
     ]
    },
    {
     "name": "stderr",
     "output_type": "stream",
     "text": [
      "Epoch 139: 100%|██████████| 511/511 [03:53<00:00,  2.19batch/s, accuracy=95.525, learning_rate=0.0163, loss=0.0337, loss_avg=0.1094, update=63]\n",
      "Epoch 139: 100%|██████████| 171/171 [00:43<00:00,  3.90batch/s, update=63, val_accuracy=93.861, val_loss=0.6972, val_loss_avg=0.1828]\n"
     ]
    },
    {
     "name": "stdout",
     "output_type": "stream",
     "text": [
      "val_acc_avg: 93.86141967773438, val_loss_avg: 0.18280501174830358\n"
     ]
    },
    {
     "name": "stderr",
     "output_type": "stream",
     "text": [
      "Epoch 140: 100%|██████████| 511/511 [03:53<00:00,  2.19batch/s, accuracy=95.537, learning_rate=0.0163, loss=0.0450, loss_avg=0.1087, update=63]\n",
      "Epoch 140: 100%|██████████| 171/171 [00:44<00:00,  3.84batch/s, update=63, val_accuracy=94.238, val_loss=0.0004, val_loss_avg=0.1670]\n"
     ]
    },
    {
     "name": "stdout",
     "output_type": "stream",
     "text": [
      "Save Best Model: val_acc_avg: 94.23818969726562, val_loss_avg: 0.16696068420264726\n"
     ]
    },
    {
     "name": "stderr",
     "output_type": "stream",
     "text": [
      "Epoch 141: 100%|██████████| 511/511 [03:53<00:00,  2.19batch/s, accuracy=95.350, learning_rate=0.0163, loss=0.2699, loss_avg=0.1140, update=63]\n",
      "Epoch 141: 100%|██████████| 171/171 [00:43<00:00,  3.89batch/s, update=63, val_accuracy=93.393, val_loss=0.1836, val_loss_avg=0.1898]\n"
     ]
    },
    {
     "name": "stdout",
     "output_type": "stream",
     "text": [
      "val_acc_avg: 93.39276123046875, val_loss_avg: 0.1897910588137303\n"
     ]
    },
    {
     "name": "stderr",
     "output_type": "stream",
     "text": [
      "Epoch 142: 100%|██████████| 511/511 [03:53<00:00,  2.19batch/s, accuracy=95.381, learning_rate=0.0163, loss=0.2661, loss_avg=0.1115, update=63]\n",
      "Epoch 142: 100%|██████████| 171/171 [00:44<00:00,  3.82batch/s, update=63, val_accuracy=93.834, val_loss=0.0000, val_loss_avg=0.1806]\n"
     ]
    },
    {
     "name": "stdout",
     "output_type": "stream",
     "text": [
      "val_acc_avg: 93.83385467529297, val_loss_avg: 0.1806017781767115\n"
     ]
    },
    {
     "name": "stderr",
     "output_type": "stream",
     "text": [
      "Epoch 143: 100%|██████████| 511/511 [03:53<00:00,  2.19batch/s, accuracy=95.507, learning_rate=0.0163, loss=0.4201, loss_avg=0.1102, update=63]\n",
      "Epoch 143: 100%|██████████| 171/171 [00:44<00:00,  3.87batch/s, update=63, val_accuracy=94.082, val_loss=0.0001, val_loss_avg=0.1763]\n"
     ]
    },
    {
     "name": "stdout",
     "output_type": "stream",
     "text": [
      "val_acc_avg: 94.08197021484375, val_loss_avg: 0.1762677203007623\n"
     ]
    },
    {
     "name": "stderr",
     "output_type": "stream",
     "text": [
      "Epoch 144: 100%|██████████| 511/511 [03:53<00:00,  2.19batch/s, accuracy=95.470, learning_rate=0.0163, loss=0.3437, loss_avg=0.1110, update=63]\n",
      "Epoch 144: 100%|██████████| 171/171 [00:44<00:00,  3.87batch/s, update=63, val_accuracy=93.907, val_loss=0.0003, val_loss_avg=0.1879]\n"
     ]
    },
    {
     "name": "stdout",
     "output_type": "stream",
     "text": [
      "val_acc_avg: 93.9073715209961, val_loss_avg: 0.18794842212155466\n"
     ]
    },
    {
     "name": "stderr",
     "output_type": "stream",
     "text": [
      "Epoch 145: 100%|██████████| 511/511 [03:53<00:00,  2.19batch/s, accuracy=95.406, learning_rate=0.0163, loss=0.0242, loss_avg=0.1133, update=63]\n",
      "Epoch 145: 100%|██████████| 171/171 [00:43<00:00,  3.93batch/s, update=63, val_accuracy=94.247, val_loss=0.0021, val_loss_avg=0.1724]\n"
     ]
    },
    {
     "name": "stdout",
     "output_type": "stream",
     "text": [
      "Save Best Model: val_acc_avg: 94.24738311767578, val_loss_avg: 0.1723585650955574\n"
     ]
    },
    {
     "name": "stderr",
     "output_type": "stream",
     "text": [
      "Epoch 146: 100%|██████████| 511/511 [03:54<00:00,  2.18batch/s, accuracy=95.522, learning_rate=0.0163, loss=0.1858, loss_avg=0.1093, update=63]\n",
      "Epoch 146: 100%|██████████| 171/171 [00:44<00:00,  3.87batch/s, update=63, val_accuracy=90.452, val_loss=0.0001, val_loss_avg=0.2804]\n"
     ]
    },
    {
     "name": "stdout",
     "output_type": "stream",
     "text": [
      "val_acc_avg: 90.4521255493164, val_loss_avg: 0.28036274089801044\n"
     ]
    },
    {
     "name": "stderr",
     "output_type": "stream",
     "text": [
      "Epoch 147: 100%|██████████| 511/511 [03:53<00:00,  2.19batch/s, accuracy=95.687, learning_rate=0.0163, loss=0.0241, loss_avg=0.1065, update=63]\n",
      "Epoch 147: 100%|██████████| 171/171 [00:44<00:00,  3.87batch/s, update=63, val_accuracy=94.082, val_loss=0.0456, val_loss_avg=0.1741]\n"
     ]
    },
    {
     "name": "stdout",
     "output_type": "stream",
     "text": [
      "val_acc_avg: 94.08197021484375, val_loss_avg: 0.17412340941660392\n"
     ]
    },
    {
     "name": "stderr",
     "output_type": "stream",
     "text": [
      "Epoch 148: 100%|██████████| 511/511 [03:53<00:00,  2.19batch/s, accuracy=95.595, learning_rate=0.0163, loss=0.0745, loss_avg=0.1091, update=63]\n",
      "Epoch 148: 100%|██████████| 171/171 [00:43<00:00,  3.92batch/s, update=63, val_accuracy=94.643, val_loss=1.6261, val_loss_avg=0.1600]\n"
     ]
    },
    {
     "name": "stdout",
     "output_type": "stream",
     "text": [
      "Save Best Model: val_acc_avg: 94.64252471923828, val_loss_avg: 0.15997730501432933\n"
     ]
    },
    {
     "name": "stderr",
     "output_type": "stream",
     "text": [
      "Epoch 149: 100%|██████████| 511/511 [03:53<00:00,  2.19batch/s, accuracy=95.721, learning_rate=0.0163, loss=0.7560, loss_avg=0.1047, update=63]\n",
      "Epoch 149: 100%|██████████| 171/171 [00:43<00:00,  3.91batch/s, update=63, val_accuracy=93.448, val_loss=0.0000, val_loss_avg=0.2016]\n"
     ]
    },
    {
     "name": "stdout",
     "output_type": "stream",
     "text": [
      "val_acc_avg: 93.4478988647461, val_loss_avg: 0.2016179170421852\n"
     ]
    },
    {
     "name": "stderr",
     "output_type": "stream",
     "text": [
      "Epoch 150: 100%|██████████| 511/511 [03:53<00:00,  2.19batch/s, accuracy=95.565, learning_rate=0.0163, loss=0.0216, loss_avg=0.1096, update=63]\n",
      "Epoch 150: 100%|██████████| 171/171 [00:43<00:00,  3.91batch/s, update=63, val_accuracy=92.400, val_loss=0.0005, val_loss_avg=0.2283]"
     ]
    },
    {
     "name": "stdout",
     "output_type": "stream",
     "text": [
      "val_acc_avg: 92.4002914428711, val_loss_avg: 0.22827445911403385\n"
     ]
    },
    {
     "name": "stderr",
     "output_type": "stream",
     "text": [
      "\n"
     ]
    }
   ],
   "source": [
    "for epoch in range(pre_epoch, EPOCH):\n",
    "    net.train()\n",
    "    train_loss = AverageMeter()\n",
    "    validation_loss = AverageMeter()\n",
    "    sum_loss = 0.0\n",
    "    total = 0.0\n",
    "    correct = 0.0\n",
    "    val_total = 0.0\n",
    "    val_correct = 0.0\n",
    "    val_final_loss = 0.0\n",
    "    update = 0\n",
    "    i = 0\n",
    "\n",
    "    if epoch > 5:\n",
    "            schedular.step(epoch)\n",
    "\n",
    "    with tqdm(trainloader, unit=\"batch\") as t_epoch:\n",
    "\n",
    "        for images, labels in t_epoch:\n",
    "            if epoch <= 5:\n",
    "                warmup_sl.step()\n",
    "\n",
    "\n",
    "            t_epoch.set_description(f\"Epoch {epoch+1}\")\n",
    "\n",
    "            length = len(trainloader)\n",
    "            images, labels = images.to(device), labels.to(device)\n",
    "\n",
    "            # optimizer.zero_grad()\n",
    "\n",
    "            output = net(images)\n",
    "\n",
    "\n",
    "            loss = criterion(output, labels)\n",
    "            train_loss.update(loss.item(), images.size(0))\n",
    "\n",
    "            loss.backward()\n",
    "\n",
    "            if (i+1) % accumulation_steps == 0:\n",
    "                # optimizer the net\n",
    "                update += 1\n",
    "                optimizer.step()        # update parameters of net\n",
    "                optimizer.zero_grad()\n",
    "\n",
    "\n",
    "            # optimizer.step()\n",
    "\n",
    "\n",
    "            _, predicted = torch.max(output.data, 1)\n",
    "            total += labels.size(0)\n",
    "            correct += predicted.eq(labels.data).sum()\n",
    "\n",
    "            n_iter = (epoch - 1) * len(trainloader) + i + 1\n",
    "\n",
    "            t_epoch.set_postfix(loss='{:.4f}'.format(train_loss.val),loss_avg='{:.4f}'.format(train_loss.avg) ,accuracy='{:.3f}'.format(100. * correct / total), learning_rate=optimizer.state_dict()['param_groups'][0]['lr'],update=update)\n",
    "\n",
    "            visualize_lastlayer(writer, net, n_iter)\n",
    "            visualize_train_loss(writer, loss.item(), n_iter)\n",
    "\n",
    "            i += 1\n",
    "\n",
    "        total_loss.append(train_loss.avg)\n",
    "        total_acc.append(100. * correct / total)\n",
    "\n",
    "        visualize_learning_rate(writer, optimizer.param_groups[0]['lr'], epoch)\n",
    "        visualize_param_hist(writer, net, epoch)\n",
    "\n",
    "        # schedular.step()\n",
    "\n",
    "        with torch.no_grad():\n",
    "\n",
    "            net.eval()\n",
    "            i = 0\n",
    "            with tqdm(validation_loader, unit='batch') as v_epoch:\n",
    "\n",
    "                for test, test_labels in v_epoch:\n",
    "\n",
    "\n",
    "                    v_epoch.set_description(f\"Epoch {epoch+1}\")\n",
    "\n",
    "                    test, test_labels = test.to(device), test_labels.to(device)\n",
    "                    out = net(test)\n",
    "                    test_loss = criterion(out, test_labels)\n",
    "                    validation_loss.update(test_loss.item(), test.size(0))\n",
    "\n",
    "                    _, pre = torch.max(out.data, 1)\n",
    "                    val_total += test_labels.size(0)\n",
    "                    val_correct += pre.eq(test_labels.data).sum()\n",
    "                    v_epoch.set_postfix(val_loss='{:.4f}'.format(validation_loss.val), val_loss_avg='{:.4f}'.format(validation_loss.avg), val_accuracy='{:.3f}'.format(100. * val_correct / val_total), update=update)\n",
    "\n",
    "\n",
    "            total_val_acc.append(100. * val_correct / val_total)\n",
    "            total_val_loss.append(validation_loss.avg)\n",
    "            visualize_test_loss(writer, total_val_loss[-1], epoch)\n",
    "            visualize_test_acc(writer, total_val_acc[-1], epoch)\n",
    "            try:\n",
    "                if len(total_val_loss) < 2:\n",
    "                    print(\"val_acc_avg: {}, val_loss_avg: {}\".format(total_val_acc[-1], total_val_loss[-1]))\n",
    "                    continue\n",
    "                if total_val_acc[-1] > best_acc:\n",
    "                    best_acc = total_val_acc[-1]\n",
    "                    torch.save(net.state_dict(), 'D:\\Resource\\models\\model_best_ECA-Net50.pth')\n",
    "                    print(\"Save Best Model: val_acc_avg: {}, val_loss_avg: {}\".format(total_val_acc[-1], total_val_loss[-1]))\n",
    "\n",
    "                else:\n",
    "                    print(\"val_acc_avg: {}, val_loss_avg: {}\".format(total_val_acc[-1], total_val_loss[-1]))\n",
    "\n",
    "\n",
    "\n",
    "            except Exception:\n",
    "                print(\"Error\")\n",
    "                continue\n",
    "\n",
    "\n"
   ]
  },
  {
   "cell_type": "code",
   "execution_count": 20,
   "outputs": [],
   "source": [
    "writer.close()"
   ],
   "metadata": {
    "collapsed": false,
    "pycharm": {
     "name": "#%%\n"
    }
   }
  },
  {
   "cell_type": "code",
   "execution_count": 21,
   "metadata": {
    "pycharm": {
     "name": "#%%\n"
    }
   },
   "outputs": [],
   "source": [
    " # torch.save(net.state_dict(), 'D:\\Resource\\models\\model_3.pth')"
   ]
  },
  {
   "cell_type": "code",
   "execution_count": 22,
   "metadata": {
    "pycharm": {
     "name": "#%%\n"
    }
   },
   "outputs": [],
   "source": [
    "\n",
    "def convert(tot):\n",
    "    t_a = []\n",
    "    for t in tot:\n",
    "        t_a.append(round(t.item(), 3))\n",
    "\n",
    "    return t_a"
   ]
  },
  {
   "cell_type": "code",
   "execution_count": 23,
   "outputs": [],
   "source": [
    "acc_np = np.array(convert(total_acc))\n",
    "loss_np = np.array(total_loss)\n",
    "val_acc_np = np.array(convert(total_val_acc))\n",
    "val_loss_np = np.array(total_val_loss)"
   ],
   "metadata": {
    "collapsed": false,
    "pycharm": {
     "name": "#%%\n"
    }
   }
  },
  {
   "cell_type": "code",
   "execution_count": 24,
   "metadata": {
    "pycharm": {
     "name": "#%%\n"
    }
   },
   "outputs": [],
   "source": [
    "np.save('D:\\Resource\\modelEvaluation\\\\acc_ECA-Net50', acc_np )\n",
    "np.save('D:\\Resource\\modelEvaluation\\\\loss_ECA-Net50', loss_np)\n",
    "np.save('D:\\Resource\\modelEvaluation\\\\val_ECA-Net50', val_loss_np)\n",
    "np.save('D:\\Resource\\modelEvaluation\\\\val_ECA-Net50', val_acc_np)"
   ]
  },
  {
   "cell_type": "code",
   "execution_count": 25,
   "outputs": [],
   "source": [
    "# acc_np = np.load('D:\\Resource\\modelEvaluation\\\\acc_success_ECANet18.npy')\n",
    "# loss_np = np.load('D:\\Resource\\modelEvaluation\\\\loss_success_ECANet18.npy')\n",
    "# val_acc_np = np.load('D:\\Resource\\modelEvaluation\\\\val_acc_success_ECANet18.npy')\n",
    "# val_loss_np = np.load('D:\\Resource\\modelEvaluation\\\\val_loss_success_ECANet18.npy')"
   ],
   "metadata": {
    "collapsed": false,
    "pycharm": {
     "name": "#%%\n"
    }
   }
  },
  {
   "cell_type": "code",
   "execution_count": 26,
   "metadata": {
    "pycharm": {
     "name": "#%%\n"
    }
   },
   "outputs": [],
   "source": [
    "pd_a = pd.DataFrame()\n",
    "pd_l = pd.DataFrame()"
   ]
  },
  {
   "cell_type": "code",
   "execution_count": 27,
   "outputs": [],
   "source": [
    "pd_a['t_a'] = acc_np\n",
    "pd_a['v_a'] = val_acc_np\n",
    "pd_l['v_l'] = val_loss_np\n",
    "pd_l['t_l'] = loss_np\n",
    "pd_a['epoch'] = range(1, len(acc_np)+1)\n",
    "pd_l['epoch'] = range(1, len(loss_np)+1)"
   ],
   "metadata": {
    "collapsed": false,
    "pycharm": {
     "name": "#%%\n"
    }
   }
  },
  {
   "cell_type": "code",
   "execution_count": 28,
   "outputs": [
    {
     "name": "stdout",
     "output_type": "stream",
     "text": [
      "      t_a     v_a  epoch\n",
      "0  52.181  57.894      1\n",
      "1  57.115  49.495      2\n",
      "2  53.865  57.260      3\n",
      "3  56.086  50.368      4\n",
      "4  52.009  55.817      5\n"
     ]
    }
   ],
   "source": [
    "print(pd_a.head())"
   ],
   "metadata": {
    "collapsed": false,
    "pycharm": {
     "name": "#%%\n"
    }
   }
  },
  {
   "cell_type": "code",
   "execution_count": 29,
   "outputs": [
    {
     "data": {
      "text/plain": "<matplotlib.axes._subplots.AxesSubplot at 0x2cc957ed240>"
     },
     "execution_count": 29,
     "metadata": {},
     "output_type": "execute_result"
    },
    {
     "data": {
      "text/plain": "<Figure size 460.8x403.2 with 1 Axes>",
      "image/png": "[encoded data removed]"
     },
     "metadata": {},
     "output_type": "display_data"
    }
   ],
   "source": [
    "sns.lineplot(x='epoch',y='t_a', data=pd_a)\n",
    "sns.lineplot(x='epoch',y='v_a', data=pd_a)"
   ],
   "metadata": {
    "collapsed": false,
    "pycharm": {
     "name": "#%%\n"
    }
   }
  },
  {
   "cell_type": "code",
   "execution_count": 30,
   "outputs": [
    {
     "data": {
      "text/plain": "<matplotlib.axes._subplots.AxesSubplot at 0x2cc8eb4ee48>"
     },
     "execution_count": 30,
     "metadata": {},
     "output_type": "execute_result"
    },
    {
     "data": {
      "text/plain": "<Figure size 460.8x403.2 with 1 Axes>",
      "image/png": "[encoded data removed]"
     },
     "metadata": {},
     "output_type": "display_data"
    }
   ],
   "source": [
    "sns.lineplot(x='epoch',y='t_l',data=pd_l)\n",
    "sns.lineplot(x='epoch',y='v_l',data=pd_l)"
   ],
   "metadata": {
    "collapsed": false,
    "pycharm": {
     "name": "#%%\n"
    }
   }
  },
  {
   "cell_type": "code",
   "execution_count": 30,
   "outputs": [],
   "source": [],
   "metadata": {
    "collapsed": false,
    "pycharm": {
     "name": "#%%\n"
    }
   }
  }
 ],
 "metadata": {
  "kernelspec": {
   "display_name": "Python 3 (ipykernel)",
   "language": "python",
   "name": "python3"
  },
  "language_info": {
   "codemirror_mode": {
    "name": "ipython",
    "version": 3
   },
   "file_extension": ".py",
   "mimetype": "text/x-python",
   "name": "python",
   "nbconvert_exporter": "python",
   "pygments_lexer": "ipython3",
   "version": "3.7.1"
  }
 },
 "nbformat": 4,
 "nbformat_minor": 1
}